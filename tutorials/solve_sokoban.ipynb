{
 "cells": [
  {
   "cell_type": "markdown",
   "metadata": {},
   "source": [
    "# Solve Sokoban"
   ]
  },
  {
   "cell_type": "code",
   "execution_count": 1,
   "metadata": {},
   "outputs": [
    {
     "name": "stdout",
     "output_type": "stream",
     "text": [
      "[rai] util.cpp:initCmdLine:559(1) ** cmd line arguments: 'rai-pybind -python '\n",
      "[rai] util.cpp:initCmdLine:562(1) ** run path: '/home/basti/Dokumente/Bachelorarbeit/rai-python/tutorials'\n",
      "[rai] util.cpp:initCmdLine:563(1) ** rai path: '/root/local/rai'\n",
      "[rai] graph.cpp:initParameters:1364(1) ** parsed parameters:\n",
      "{python,\n",
      "LGP/cameraFocus:[1, 0.5, 1],\n",
      "LGP/collisions:1,\n",
      "LGP/stopTime:300,\n",
      "LGP/stopSol:6,\n",
      "opt/maxStep:0.1,\n",
      "opt/verbose:6,\n",
      "opt/boundedNewton!}\n",
      "\n"
     ]
    }
   ],
   "source": [
    "import sys\n",
    "sys.path += ['../build', '../../../build', '../../lib']\n",
    "# print(sys.version)\n",
    "import numpy as np\n",
    "from robotic import ry\n",
    "import time"
   ]
  },
  {
   "cell_type": "markdown",
   "metadata": {},
   "source": [
    "## Setting up a basic Config"
   ]
  },
  {
   "cell_type": "code",
   "execution_count": 2,
   "metadata": {},
   "outputs": [
    {
     "data": {
      "text/plain": [
       "0"
      ]
     },
     "execution_count": 2,
     "metadata": {},
     "output_type": "execute_result"
    }
   ],
   "source": [
    "C = ry.Config()\n",
    "C.clear()\n",
    "\n",
    "run = 1\n",
    "file = 23\n",
    "C.addFile(f'/home/basti/Dokumente/Bachelorarbeit/gym-pcgrl/shared_runs/sokoban_turtle_{run}_log/generated/{file}.g')\n",
    "\n",
    "C.view()"
   ]
  },
  {
   "cell_type": "code",
   "execution_count": 3,
   "metadata": {},
   "outputs": [
    {
     "data": {
      "text/plain": [
       "['world',\n",
       " 'floor',\n",
       " 'roboJoint',\n",
       " 'robo',\n",
       " 'base',\n",
       " 'wheel1',\n",
       " 'wheel2',\n",
       " 'wheel3',\n",
       " 'wheel4',\n",
       " 'bodyRotation',\n",
       " 'body',\n",
       " 'head',\n",
       " 'armL',\n",
       " 'handL',\n",
       " 'armR',\n",
       " 'handR',\n",
       " 'block0-0',\n",
       " 'block0-1',\n",
       " 'block0-2',\n",
       " 'block0-3',\n",
       " 'block0-4',\n",
       " 'block0-5',\n",
       " 'block0-6',\n",
       " 'block0-7',\n",
       " 'block0-8',\n",
       " 'block0-9',\n",
       " 'block0-10',\n",
       " 'block0-11',\n",
       " 'block1-0',\n",
       " 'block1-11',\n",
       " 'block2-0',\n",
       " 'block2-6',\n",
       " 'block2-7',\n",
       " 'block2-11',\n",
       " 'block3-0',\n",
       " 'goal3-3',\n",
       " 'block3-11',\n",
       " 'block4-0',\n",
       " 'block4-2',\n",
       " 'block4-11',\n",
       " 'block5-0',\n",
       " 'block5-4',\n",
       " 'box5-5',\n",
       " 'goal5-8',\n",
       " 'block5-11',\n",
       " 'block6-0',\n",
       " 'block6-11',\n",
       " 'block7-0',\n",
       " 'box7-2',\n",
       " 'block7-4',\n",
       " 'block7-11',\n",
       " 'block8-0',\n",
       " 'block8-11',\n",
       " 'block9-0',\n",
       " 'block9-11',\n",
       " 'block10-0',\n",
       " 'block10-4',\n",
       " 'block10-5',\n",
       " 'block10-10',\n",
       " 'block10-11',\n",
       " 'block11-0',\n",
       " 'block11-1',\n",
       " 'block11-2',\n",
       " 'block11-3',\n",
       " 'block11-4',\n",
       " 'block11-5',\n",
       " 'block11-6',\n",
       " 'block11-7',\n",
       " 'block11-8',\n",
       " 'block11-9',\n",
       " 'block11-10',\n",
       " 'block11-11']"
      ]
     },
     "execution_count": 3,
     "metadata": {},
     "output_type": "execute_result"
    }
   ],
   "source": [
    "C.getFrameNames()"
   ]
  },
  {
   "cell_type": "markdown",
   "metadata": {},
   "source": [
    "## Create skeleton"
   ]
  },
  {
   "cell_type": "code",
   "execution_count": 4,
   "metadata": {},
   "outputs": [],
   "source": [
    "S = ry.Skeleton()\n",
    "# touch box3-3\n",
    "# S.addEntry([1.], ry.SY.touch, ['handL', 'box3-8'])\n",
    "S.addEntry([1.], ry.SY.positionEq, ['robo', 'goal3-3'])\n",
    "\n",
    "# # move box4-4 to goal 5-5\n",
    "# S.addEntry([1.], ry.SY.touch, ['armL', 'box4-4'])\n",
    "# S.addEntry([1., 2.], ry.SY.stable, ['armL', 'box4-4'])\n",
    "# S.addEntry([2.], ry.SY.above, ['box4-4', 'goal5-5'])\n",
    "# S.addEntry([2.,7.], ry.SY.stableOn, ['goal5-5', 'box4-4'])\n",
    "\n",
    "# # move box2-4 to goal1-1\n",
    "# S.addEntry([3.], ry.SY.touch, ['armL', 'box2-4'])\n",
    "# S.addEntry([3., 4.], ry.SY.stable, ['armL', 'box2-4'])\n",
    "# S.addEntry([4.], ry.SY.above, ['box2-4', 'goal1-1'])\n",
    "# S.addEntry([4.,7.], ry.SY.stableOn, ['goal1-1', 'box2-4'])\n",
    "\n",
    "# # move box2-2 to goal5-1\n",
    "# S.addEntry([5.], ry.SY.touch, ['armL', 'box2-2'])\n",
    "# S.addEntry([5., 6.], ry.SY.stable, ['armL', 'box2-2'])\n",
    "# S.addEntry([6.], ry.SY.above, ['box2-2', 'goal5-1'])\n",
    "# S.addEntry([6.,7.], ry.SY.stableOn, ['goal5-1', 'box2-2'])\n"
   ]
  },
  {
   "cell_type": "markdown",
   "metadata": {},
   "source": [
    "## solve for waypoints: create a komo instance, create nlp instance, then call generic solver"
   ]
  },
  {
   "cell_type": "code",
   "execution_count": 5,
   "metadata": {},
   "outputs": [
    {
     "name": "stdout",
     "output_type": "stream",
     "text": [
      "SolverReturn: { time: 0.00081, evals: 27, done: 0, feasible: 1, sos: 0.0609122, f: 0, ineq: 0, eq: 0.170216 }\n",
      "***** optConstrained: method=AugmentedLagrangian bounds: no\n",
      "** optConstr. it=0start evals:0 mu=1 nu=1 muLB=0.1 \tlambda=[]\n",
      "** optConstr. it=0start evals:26 f(x)=0.0608389 \tg_compl=0 \th_compl=0.451248 \t|x-x'|=5 \tx=[-2.49749, -2.499, -0.000930031]\n",
      "** optConstr. it=1end   evals:26 mu=5 nu=5 muLB=0.02 \tlambda=[0, 0, 0, 0, 0, 0, 0.502549, 0.199947, -0.2]\n",
      "** optConstr. it=1start evals:27 f(x)=0.0609122 \tg_compl=0 \th_compl=0.170216 \t|x-x'|=0.00301505 \tx=[-2.5005, -2.5002, -0.000926142]\n",
      "** optConstr. StoppingCriterion Delta<0.01\n"
     ]
    },
    {
     "data": {
      "text/plain": [
       "1"
      ]
     },
     "execution_count": 5,
     "metadata": {},
     "output_type": "execute_result"
    }
   ],
   "source": [
    "komo = S.getKomo_waypoints(C, 1e-1, 1e-2)\n",
    "nlp = komo.nlp()\n",
    "sol = ry.NLP_Solver()\n",
    "sol.setProblem(nlp)\n",
    "sol.setOptions( stopTolerance=1e-2 )\n",
    "ret = sol.solve()\n",
    "waypoints = komo.getPath_qAll()\n",
    "# report on result, view, and play\n",
    "print(ret)\n",
    "#print(nlpW.report(2))\n",
    "komo.view(True, 'waypoints solution')\n",
    "komo.view_play(True, .2)\n",
    "# store result"
   ]
  },
  {
   "cell_type": "markdown",
   "metadata": {},
   "source": [
    "## solve for paths using RRT: for each phase create start-end problems, run RRT"
   ]
  },
  {
   "cell_type": "code",
   "execution_count": 6,
   "metadata": {},
   "outputs": [],
   "source": [
    "m = len(waypoints)\n",
    "rrt_dofs = []\n",
    "rrt_paths = []\n",
    "for t in range(0,int(m)):\n",
    "    # grab config and waypoints\n",
    "    [Ctmp, q0, q1] = S.getTwoWaypointProblem(t, komo)\n",
    "    Ctmp.setJointState(q0);\n",
    "    Ctmp.view(True, 'waypoint configuration phase ' + str(t) + ' START')\n",
    "    Ctmp.setJointState(q1);\n",
    "    Ctmp.view(True, 'waypoint configuration phase ' + str(t) + ' STOP')\n",
    "\n",
    "    # call path finder\n",
    "    sol = ry.PathFinder()\n",
    "    sol.setProblem(Ctmp, q0, q1)\n",
    "    ret = sol.solve()\n",
    "    rrt_paths.append(ret.x)\n",
    "    rrt_dofs.append(Ctmp.getDofIDs())\n",
    "\n",
    "    #display the rrt path\n",
    "    for i in range(0,ret.x.shape[0]):\n",
    "        Ctmp.setJointState(ret.x[i])\n",
    "        Ctmp.view(False, 'rrt path ' + str(i))\n",
    "        time.sleep(.1)"
   ]
  },
  {
   "cell_type": "markdown",
   "metadata": {},
   "source": [
    "## solve for full path: create a komo instance, initialize with waypoints & rrt paths, solve"
   ]
  },
  {
   "cell_type": "code",
   "execution_count": null,
   "metadata": {},
   "outputs": [],
   "source": [
    "komo = S.getKomo_path(C, 20, .2, -1, 1e-2)\n",
    "komo.initWithWaypoints(waypoints)\n",
    "komo.view(True, 'init with waypoints only')\n",
    "for t in range(0,int(m)):\n",
    "    komo.initPhaseWithDofsPath(t, rrt_dofs[t], rrt_paths[t], True)\n",
    "    komo.view(True, 'init with RRT phase ' + str(t))\n",
    "nlp = komo.nlp()\n",
    "sol = ry.NLP_Solver()\n",
    "sol.setProblem(nlp)\n",
    "sol.setOptions( stopTolerance=1e-2 )\n",
    "ret = sol.solve()\n",
    "# report on result, view, and play\n",
    "print(ret)\n",
    "#print(nlp.report(2))\n",
    "komo.view(True, 'path solution')\n",
    "komo.view_play(True, .2)"
   ]
  },
  {
   "cell_type": "code",
   "execution_count": null,
   "metadata": {},
   "outputs": [],
   "source": [
    "C.view()"
   ]
  },
  {
   "cell_type": "code",
   "execution_count": null,
   "metadata": {},
   "outputs": [],
   "source": []
  }
 ],
 "metadata": {
  "kernelspec": {
   "display_name": "Python 3 (ipykernel)",
   "language": "python",
   "name": "python3"
  },
  "language_info": {
   "codemirror_mode": {
    "name": "ipython",
    "version": 3
   },
   "file_extension": ".py",
   "mimetype": "text/x-python",
   "name": "python",
   "nbconvert_exporter": "python",
   "pygments_lexer": "ipython3",
   "version": "3.8.10"
  },
  "vscode": {
   "interpreter": {
    "hash": "916dbcbb3f70747c44a77c7bcd40155683ae19c65e1c03b4aa3499c5328201f1"
   }
  }
 },
 "nbformat": 4,
 "nbformat_minor": 2
}

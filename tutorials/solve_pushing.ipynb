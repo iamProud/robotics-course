{
 "cells": [
  {
   "cell_type": "markdown",
   "metadata": {},
   "source": [
    "# Solve Pushing"
   ]
  },
  {
   "cell_type": "code",
   "execution_count": 1,
   "metadata": {},
   "outputs": [
    {
     "name": "stdout",
     "output_type": "stream",
     "text": [
      "3.8.10 (default, Nov 14 2022, 12:59:47) \n",
      "[GCC 9.4.0]\n",
      "[rai] util.cpp:initCmdLine:559(1) ** cmd line arguments: 'rai-pybind -python '\n",
      "[rai] util.cpp:initCmdLine:562(1) ** run path: '/home/basti/Dokumente/Bachelorarbeit/rai-python/tutorials'\n",
      "[rai] util.cpp:initCmdLine:563(1) ** rai path: '/root/local/rai'\n",
      "[rai] graph.cpp:initParameters:1364(1) ** parsed parameters:\n",
      "{python,\n",
      "LGP/cameraFocus:[1, 0.5, 1],\n",
      "LGP/collisions:1,\n",
      "LGP/stopTime:300,\n",
      "LGP/stopSol:6,\n",
      "opt/maxStep:0.1,\n",
      "opt/verbose:6,\n",
      "opt/boundedNewton!}\n",
      "\n"
     ]
    }
   ],
   "source": [
    "import sys\n",
    "sys.path += ['../build', '../../../build', '../../lib']\n",
    "print(sys.version)\n",
    "import numpy as np\n",
    "from robotic import ry\n",
    "# import libry as ry\n",
    "import time"
   ]
  },
  {
   "cell_type": "markdown",
   "metadata": {},
   "source": [
    "## Setting up a basic Config"
   ]
  },
  {
   "cell_type": "code",
   "execution_count": 2,
   "metadata": {},
   "outputs": [
    {
     "data": {
      "text/plain": [
       "0"
      ]
     },
     "execution_count": 2,
     "metadata": {},
     "output_type": "execute_result"
    }
   ],
   "source": [
    "C = ry.Config()\n",
    "C.clear()\n",
    "\n",
    "run = 1\n",
    "file = 12\n",
    "C.addFile(f'/home/basti/Dokumente/Bachelorarbeit/gym-pcgrl/shared_runs/pushing_turtle_{run}_log/generated/{file}.g')\n",
    "\n",
    "# Test with puzzle\n",
    "# C.addFile('../my-robotModels/p30-puzzle5.g')\n",
    "# ego = C.getFrame(frameName='ego')\n",
    "# ego.setPosition([-1.5, -1.5, 0.2])\n",
    "# goal = 'goal'\n",
    "# agent = 'ego'\n",
    "\n",
    "C.view()"
   ]
  },
  {
   "cell_type": "code",
   "execution_count": 3,
   "metadata": {},
   "outputs": [
    {
     "name": "stdout",
     "output_type": "stream",
     "text": [
      "['world', 'floor', 'roboJoint', 'robo', 'empty_0_0', 'block_0_0', 'empty_0_1', 'block_0_1', 'empty_0_2', 'block_0_2', 'empty_0_3', 'block_0_3', 'empty_0_4', 'block_0_4', 'empty_0_5', 'block_0_5', 'empty_0_6', 'block_0_6', 'empty_0_7', 'block_0_7', 'empty_0_8', 'block_0_8', 'empty_0_9', 'block_0_9', 'empty_0_10', 'block_0_10', 'empty_0_11', 'block_0_11', 'empty_1_0', 'block_1_0', 'empty_1_1', 'empty_1_2', 'empty_1_3', 'empty_1_4', 'empty_1_5', 'empty_1_6', 'empty_1_7', 'box_1_7', 'empty_1_8', 'empty_1_9', 'empty_1_10', 'block_1_10', 'empty_1_11', 'block_1_11', 'empty_2_0', 'block_2_0', 'empty_2_1', 'empty_2_2', 'empty_2_3', 'empty_2_4', 'empty_2_5', 'empty_2_6', 'empty_2_7', 'empty_2_8', 'empty_2_9', 'empty_2_10', 'block_2_10', 'empty_2_11', 'block_2_11', 'empty_3_0', 'block_3_0', 'empty_3_1', 'block_3_1', 'empty_3_2', 'empty_3_3', 'empty_3_4', 'block_3_4', 'empty_3_5', 'empty_3_6', 'block_3_6', 'empty_3_7', 'block_3_7', 'empty_3_8', 'block_3_8', 'empty_3_9', 'empty_3_10', 'block_3_10', 'empty_3_11', 'block_3_11', 'empty_4_0', 'block_4_0', 'empty_4_1', 'block_4_1', 'empty_4_2', 'empty_4_3', 'block_4_3', 'empty_4_4', 'block_4_4', 'empty_4_5', 'empty_4_6', 'empty_4_7', 'empty_4_8', 'empty_4_9', 'empty_4_10', 'block_4_10', 'empty_4_11', 'block_4_11', 'empty_5_0', 'block_5_0', 'empty_5_1', 'empty_5_2', 'empty_5_3', 'empty_5_4', 'empty_5_5', 'empty_5_6', 'box_5_6', 'empty_5_7', 'empty_5_8', 'empty_5_9', 'empty_5_10', 'block_5_10', 'empty_5_11', 'block_5_11', 'empty_6_0', 'block_6_0', 'empty_6_1', 'block_6_1', 'empty_6_2', 'empty_6_3', 'goal_6_3', 'empty_6_4', 'block_6_4', 'empty_6_5', 'block_6_5', 'empty_6_6', 'block_6_6', 'empty_6_7', 'block_6_7', 'empty_6_8', 'empty_6_9', 'empty_6_10', 'block_6_10', 'empty_6_11', 'block_6_11', 'empty_7_0', 'block_7_0', 'empty_7_1', 'box_7_1', 'empty_7_2', 'empty_7_3', 'box_7_3', 'empty_7_4', 'block_7_4', 'empty_7_5', 'block_7_5', 'empty_7_6', 'block_7_6', 'empty_7_7', 'empty_7_8', 'empty_7_9', 'empty_7_10', 'empty_7_11', 'block_7_11', 'empty_8_0', 'block_8_0', 'empty_8_1', 'empty_8_2', 'empty_8_3', 'empty_8_4', 'empty_8_5', 'empty_8_6', 'empty_8_7', 'empty_8_8', 'empty_8_9', 'empty_8_10', 'empty_8_11', 'block_8_11', 'empty_9_0', 'block_9_0', 'empty_9_1', 'empty_9_2', 'empty_9_3', 'block_9_3', 'empty_9_4', 'block_9_4', 'empty_9_5', 'block_9_5', 'empty_9_6', 'block_9_6', 'empty_9_7', 'empty_9_8', 'empty_9_10', 'block_9_10', 'empty_9_11', 'block_9_11', 'empty_10_0', 'block_10_0', 'empty_10_1', 'block_10_1', 'empty_10_2', 'empty_10_3', 'block_10_3', 'empty_10_4', 'block_10_4', 'empty_10_5', 'block_10_5', 'empty_10_6', 'block_10_6', 'empty_10_7', 'block_10_7', 'empty_10_8', 'empty_10_9', 'empty_10_10', 'block_10_10', 'empty_10_11', 'block_10_11', 'empty_11_0', 'block_11_0', 'empty_11_1', 'block_11_1', 'empty_11_2', 'block_11_2', 'empty_11_3', 'block_11_3', 'empty_11_4', 'block_11_4', 'empty_11_5', 'block_11_5', 'empty_11_6', 'block_11_6', 'empty_11_7', 'block_11_7', 'empty_11_8', 'block_11_8', 'empty_11_9', 'block_11_9', 'empty_11_10', 'block_11_10', 'empty_11_11', 'block_11_11']\n",
      "['goal_6_3']\n"
     ]
    }
   ],
   "source": [
    "# GET GOALS\n",
    "frameNames = C.getFrameNames()\n",
    "print(frameNames)\n",
    "\n",
    "goalNames = [s for s in frameNames if 'goal' in s]\n",
    "print(goalNames)\n",
    "\n",
    "goal = goalNames[0]\n",
    "agent = 'robo'"
   ]
  },
  {
   "cell_type": "markdown",
   "metadata": {},
   "source": [
    "## Path Optimization"
   ]
  },
  {
   "cell_type": "code",
   "execution_count": 4,
   "metadata": {},
   "outputs": [],
   "source": [
    "# X0 = C.getFrameState()\n",
    "\n",
    "# komo = C.komo_path(1., 20, 10., True)\n",
    "\n",
    "# komo.addObjective([], ry.FS.accumulatedCollisions, [], ry.OT.eq)\n",
    "# komo.addObjective([], ry.FS.jointLimits, [], ry.OT.ineq);\n",
    "\n",
    "# # robo inside goal\n",
    "# komo.addObjective(times=[1.], feature=ry.FS.aboveBox, frames=[agent, goal], type=ry.OT.eq, scale=[1e2])\n",
    "\n",
    "# komo.addObjective(times=[1.], feature=ry.FS.qItself, type=ry.OT.eq, order=1);\n",
    "\n",
    "\n",
    "# # komo.addObjective(times=[1.], feature=ry.FS.position, frames=[roboFrame], type=ry.OT.eq, scale=[1, 1, 0], target=[1, 1, 0]);\n",
    "\n",
    "# komo.optimize()\n",
    "# komo.getReport()\n",
    "# komo.view(False, \"my solution\")\n",
    "# komo.view_play(False, 0.1)"
   ]
  },
  {
   "cell_type": "markdown",
   "metadata": {},
   "source": [
    "## Create skeleton"
   ]
  },
  {
   "cell_type": "code",
   "execution_count": 5,
   "metadata": {},
   "outputs": [],
   "source": [
    "S = ry.Skeleton()\n",
    "\n",
    "# touch goal\n",
    "S.addEntry([1.], ry.SY.positionEq, [agent, goal])\n",
    "\n",
    "\n",
    "## Test puzzel\n",
    "# S.addEntry([1.], ry.SY.touch, [agent, 'obj'])\n",
    "# S.addEntry([1., 2.], ry.SY.stable, [agent, 'obj'])\n",
    "# S.addEntry([2.], ry.SY.above, ['obj', 'goal'])\n",
    "# S.addEntry([2.,3.], ry.SY.stableOn, ['goal', 'obj'])\n",
    "\n",
    "\n",
    "# # move box4-4 to goal 5-5\n",
    "# S.addEntry([1.], ry.SY.touch, ['armL', 'box4-4'])\n",
    "# S.addEntry([1., 2.], ry.SY.stable, ['armL', 'box4-4'])\n",
    "# S.addEntry([2.], ry.SY.above, ['box4-4', 'goal5-5'])\n",
    "# S.addEntry([2.,7.], ry.SY.stableOn, ['goal5-5', 'box4-4'])\n",
    "\n",
    "# # move box2-4 to goal1-1\n",
    "# S.addEntry([3.], ry.SY.touch, ['armL', 'box2-4'])\n",
    "# S.addEntry([3., 4.], ry.SY.stable, ['armL', 'box2-4'])\n",
    "# S.addEntry([4.], ry.SY.above, ['box2-4', 'goal1-1'])\n",
    "# S.addEntry([4.,7.], ry.SY.stableOn, ['goal1-1', 'box2-4'])\n",
    "\n",
    "# # move box2-2 to goal5-1\n",
    "# S.addEntry([5.], ry.SY.touch, ['armL', 'box2-2'])\n",
    "# S.addEntry([5., 6.], ry.SY.stable, ['armL', 'box2-2'])\n",
    "# S.addEntry([6.], ry.SY.above, ['box2-2', 'goal5-1'])\n",
    "# S.addEntry([6.,7.], ry.SY.stableOn, ['goal5-1', 'box2-2'])\n"
   ]
  },
  {
   "cell_type": "markdown",
   "metadata": {},
   "source": [
    "## solve for waypoints: create a komo instance, create nlp instance, then call generic solver"
   ]
  },
  {
   "cell_type": "code",
   "execution_count": 6,
   "metadata": {},
   "outputs": [
    {
     "name": "stdout",
     "output_type": "stream",
     "text": [
      "SolverReturn: { time: 0.001675, evals: 21, done: 0, feasible: 0, sos: 0.0356998, f: 0, ineq: 0, eq: 10.1013 }\n",
      "***** optConstrained: method=AugmentedLagrangian bounds: no\n",
      "** optConstr. it=0start evals:0 mu=1 nu=1 muLB=0.1 \tlambda=[]\n",
      "** optConstr. it=0start evals:21 f(x)=0.0356998 \tg_compl=0 \th_compl=10.1013 \t|x-x'|=3.99748 \tx=[0.499989, -2.5]\n",
      "** optConstr. it=1end   evals:21 mu=5 nu=5 muLB=0.02 \tlambda=[0, 0, 0, 0, -0.00214276, 0.00053122, 20.2]\n",
      "** optConstr. it=1start evals:21 f(x)=0.0356998 \tg_compl=0 \th_compl=10.1013 \t|x-x'|=0 \tx=[0.499989, -2.5]\n",
      "** optConstr. StoppingCriterion Delta<0.01\n"
     ]
    },
    {
     "data": {
      "text/plain": [
       "1"
      ]
     },
     "execution_count": 6,
     "metadata": {},
     "output_type": "execute_result"
    }
   ],
   "source": [
    "komo = S.getKomo_waypoints(C, 1e-1, 1e-2)\n",
    "nlp = komo.nlp()\n",
    "sol = ry.NLP_Solver()\n",
    "sol.setProblem(nlp)\n",
    "sol.setOptions( stopTolerance=1e-2 )\n",
    "ret = sol.solve()\n",
    "waypoints = komo.getPath_qAll()\n",
    "# report on result, view, and play\n",
    "print(ret)\n",
    "#print(nlpW.report(2))\n",
    "komo.view(True, 'waypoints solution')\n",
    "komo.view_play(True, .2)\n",
    "# store result"
   ]
  },
  {
   "cell_type": "markdown",
   "metadata": {},
   "source": [
    "## solve for paths using RRT: for each phase create start-end problems, run RRT"
   ]
  },
  {
   "cell_type": "code",
   "execution_count": null,
   "metadata": {},
   "outputs": [
    {
     "name": "stdout",
     "output_type": "stream",
     "text": [
      "sol: <robotic.libry.PathFinder object at 0x7fa118959130>\n",
      "[rai] pairCollision.cpp:libccd:287(0) WARNING: called MPR penetration for non intersecting meshes...\n",
      "[rai] array.cpp:normalizeWithJac:307(-1) can't normalize vector of length 0\n",
      "[rai] pairCollision.cpp:libccd:287(0) WARNING: called MPR penetration for non intersecting meshes...\n",
      "[rai] array.cpp:normalizeWithJac:307(-1) can't normalize vector of length 0\n",
      "[rai] pairCollision.cpp:libccd:287(0) WARNING: called MPR penetration for non intersecting meshes...\n",
      "[rai] array.cpp:normalizeWithJac:307(-1) can't normalize vector of length 0\n",
      "[rai] pairCollision.cpp:libccd:287(0) WARNING: called MPR penetration for non intersecting meshes...\n",
      "[rai] array.cpp:normalizeWithJac:307(-1) can't normalize vector of length 0\n",
      "[rai] pairCollision.cpp:libccd:287(0) WARNING: called MPR penetration for non intersecting meshes...\n",
      "[rai] array.cpp:normalizeWithJac:307(-1) can't normalize vector of length 0\n",
      "[rai] pairCollision.cpp:libccd:287(0) WARNING: called MPR penetration for non intersecting meshes...\n",
      "[rai] array.cpp:normalizeWithJac:307(-1) can't normalize vector of length 0\n",
      "[rai] pairCollision.cpp:libccd:287(0) WARNING: called MPR penetration for non intersecting meshes...\n",
      "[rai] array.cpp:normalizeWithJac:307(-1) can't normalize vector of length 0\n",
      "[rai] pairCollision.cpp:libccd:287(0) WARNING: called MPR penetration for non intersecting meshes...\n",
      "[rai] array.cpp:normalizeWithJac:307(-1) can't normalize vector of length 0\n",
      "[rai] pairCollision.cpp:libccd:287(0) WARNING: called MPR penetration for non intersecting meshes...\n",
      "[rai] array.cpp:normalizeWithJac:307(-1) can't normalize vector of length 0\n",
      "[rai] pairCollision.cpp:libccd:287(0) WARNING: called MPR penetration for non intersecting meshes...\n",
      "[rai] array.cpp:normalizeWithJac:307(-1) can't normalize vector of length 0\n",
      "[rai] pairCollision.cpp:libccd:287(0) WARNING: called MPR penetration for non intersecting meshes...\n",
      "[rai] array.cpp:normalizeWithJac:307(-1) can't normalize vector of length 0\n",
      "[rai] pairCollision.cpp:libccd:287(0) WARNING: called MPR penetration for non intersecting meshes...\n",
      "[rai] array.cpp:normalizeWithJac:307(-1) can't normalize vector of length 0\n",
      "[rai] pairCollision.cpp:libccd:287(0) WARNING: called MPR penetration for non intersecting meshes...\n",
      "[rai] array.cpp:normalizeWithJac:307(-1) can't normalize vector of length 0\n",
      "[rai] pairCollision.cpp:libccd:287(0) WARNING: called MPR penetration for non intersecting meshes...\n",
      "[rai] array.cpp:normalizeWithJac:307(-1) can't normalize vector of length 0\n",
      "[rai] pairCollision.cpp:libccd:287(0) WARNING: called MPR penetration for non intersecting meshes...\n",
      "[rai] array.cpp:normalizeWithJac:307(-1) can't normalize vector of length 0\n",
      "[rai] pairCollision.cpp:libccd:287(0) WARNING: called MPR penetration for non intersecting meshes...\n",
      "[rai] array.cpp:normalizeWithJac:307(-1) can't normalize vector of length 0\n",
      "[rai] pairCollision.cpp:libccd:287(0) WARNING: called MPR penetration for non intersecting meshes...\n",
      "[rai] pairCollision.cpp:libccd:292(0) WARNING: but GJK says intersection\n",
      "[rai] pairCollision.cpp:libccd:287(0) WARNING: called MPR penetration for non intersecting meshes...\n",
      "[rai] array.cpp:normalizeWithJac:307(-1) can't normalize vector of length 0\n",
      "[rai] pairCollision.cpp:libccd:287(0) WARNING: called MPR penetration for non intersecting meshes...\n",
      "[rai] array.cpp:normalizeWithJac:307(-1) can't normalize vector of length 0\n",
      "[rai] pairCollision.cpp:libccd:287(0) WARNING: called MPR penetration for non intersecting meshes...\n",
      "[rai] array.cpp:normalizeWithJac:307(-1) can't normalize vector of length 0\n",
      "[rai] pairCollision.cpp:libccd:287(0) WARNING: called MPR penetration for non intersecting meshes...\n",
      "[rai] array.cpp:normalizeWithJac:307(-1) can't normalize vector of length 0\n",
      "[rai] pairCollision.cpp:libccd:287(0) WARNING: called MPR penetration for non intersecting meshes...\n",
      "[rai] array.cpp:normalizeWithJac:307(-1) can't normalize vector of length 0\n",
      "[rai] pairCollision.cpp:libccd:287(0) WARNING: called MPR penetration for non intersecting meshes...\n",
      "[rai] array.cpp:normalizeWithJac:307(-1) can't normalize vector of length 0\n",
      "[rai] pairCollision.cpp:libccd:287(0) WARNING: called MPR penetration for non intersecting meshes...\n",
      "[rai] array.cpp:normalizeWithJac:307(-1) can't normalize vector of length 0\n",
      "[rai] pairCollision.cpp:libccd:287(0) WARNING: called MPR penetration for non intersecting meshes...\n",
      "[rai] array.cpp:normalizeWithJac:307(-1) can't normalize vector of length 0\n",
      "[rai] pairCollision.cpp:libccd:287(0) WARNING: called MPR penetration for non intersecting meshes...\n",
      "[rai] array.cpp:normalizeWithJac:307(-1) can't normalize vector of length 0\n",
      "[rai] pairCollision.cpp:libccd:287(0) WARNING: called MPR penetration for non intersecting meshes...\n",
      "[rai] array.cpp:normalizeWithJac:307(-1) can't normalize vector of length 0\n",
      "[rai] pairCollision.cpp:libccd:287(0) WARNING: called MPR penetration for non intersecting meshes...\n",
      "[rai] array.cpp:normalizeWithJac:307(-1) can't normalize vector of length 0\n",
      "[rai] pairCollision.cpp:libccd:287(0) WARNING: called MPR penetration for non intersecting meshes...\n",
      "[rai] array.cpp:normalizeWithJac:307(-1) can't normalize vector of length 0\n",
      "[rai] pairCollision.cpp:libccd:287(0) WARNING: called MPR penetration for non intersecting meshes...\n",
      "[rai] array.cpp:normalizeWithJac:307(-1) can't normalize vector of length 0\n",
      "[rai] pairCollision.cpp:libccd:287(0) WARNING: called MPR penetration for non intersecting meshes...\n",
      "[rai] pairCollision.cpp:libccd:292(0) WARNING: but GJK says intersection\n",
      "[rai] pairCollision.cpp:libccd:287(0) WARNING: called MPR penetration for non intersecting meshes...\n",
      "[rai] array.cpp:normalizeWithJac:307(-1) can't normalize vector of length 0\n",
      "[rai] pairCollision.cpp:libccd:287(0) WARNING: called MPR penetration for non intersecting meshes...\n",
      "[rai] array.cpp:normalizeWithJac:307(-1) can't normalize vector of length 0\n",
      "[rai] pairCollision.cpp:libccd:287(0) WARNING: called MPR penetration for non intersecting meshes...\n",
      "[rai] array.cpp:normalizeWithJac:307(-1) can't normalize vector of length 0\n",
      "[rai] pairCollision.cpp:libccd:287(0) WARNING: called MPR penetration for non intersecting meshes...\n",
      "[rai] array.cpp:normalizeWithJac:307(-1) can't normalize vector of length 0\n",
      "[rai] pairCollision.cpp:libccd:287(0) WARNING: called MPR penetration for non intersecting meshes...\n",
      "[rai] pairCollision.cpp:libccd:292(0) WARNING: but GJK says intersection\n",
      "[rai] pairCollision.cpp:libccd:287(0) WARNING: called MPR penetration for non intersecting meshes...\n",
      "[rai] array.cpp:normalizeWithJac:307(-1) can't normalize vector of length 0\n",
      "[rai] pairCollision.cpp:libccd:287(0) WARNING: called MPR penetration for non intersecting meshes...\n",
      "[rai] array.cpp:normalizeWithJac:307(-1) can't normalize vector of length 0\n",
      "[rai] pairCollision.cpp:libccd:287(0) WARNING: called MPR penetration for non intersecting meshes...\n",
      "[rai] pairCollision.cpp:libccd:292(0) WARNING: but GJK says intersection\n",
      "[rai] pairCollision.cpp:libccd:287(0) WARNING: called MPR penetration for non intersecting meshes...\n",
      "[rai] array.cpp:normalizeWithJac:307(-1) can't normalize vector of length 0\n",
      "[rai] pairCollision.cpp:libccd:287(0) WARNING: called MPR penetration for non intersecting meshes...\n",
      "[rai] array.cpp:normalizeWithJac:307(-1) can't normalize vector of length 0\n",
      "[rai] pairCollision.cpp:libccd:287(0) WARNING: called MPR penetration for non intersecting meshes...\n",
      "[rai] array.cpp:normalizeWithJac:307(-1) can't normalize vector of length 0\n",
      "[rai] pairCollision.cpp:libccd:287(0) WARNING: called MPR penetration for non intersecting meshes...\n",
      "[rai] array.cpp:normalizeWithJac:307(-1) can't normalize vector of length 0\n",
      "[rai] pairCollision.cpp:libccd:287(0) WARNING: called MPR penetration for non intersecting meshes...\n",
      "[rai] pairCollision.cpp:libccd:292(0) WARNING: but GJK says intersection\n",
      "[rai] pairCollision.cpp:libccd:287(0) WARNING: called MPR penetration for non intersecting meshes...\n",
      "[rai] array.cpp:normalizeWithJac:307(-1) can't normalize vector of length 0\n",
      "[rai] pairCollision.cpp:libccd:287(0) WARNING: called MPR penetration for non intersecting meshes...\n",
      "[rai] pairCollision.cpp:libccd:292(0) WARNING: but GJK says intersection\n",
      "[rai] pairCollision.cpp:libccd:287(0) WARNING: called MPR penetration for non intersecting meshes...\n"
     ]
    },
    {
     "name": "stdout",
     "output_type": "stream",
     "text": [
      "[rai] array.cpp:normalizeWithJac:307(-1) can't normalize vector of length 0\n",
      "[rai] pairCollision.cpp:libccd:287(0) WARNING: called MPR penetration for non intersecting meshes...\n",
      "[rai] array.cpp:normalizeWithJac:307(-1) can't normalize vector of length 0\n",
      "[rai] pairCollision.cpp:libccd:287(0) WARNING: called MPR penetration for non intersecting meshes...\n",
      "[rai] array.cpp:normalizeWithJac:307(-1) can't normalize vector of length 0\n",
      "[rai] pairCollision.cpp:libccd:287(0) WARNING: called MPR penetration for non intersecting meshes...\n",
      "[rai] array.cpp:normalizeWithJac:307(-1) can't normalize vector of length 0\n",
      "[rai] pairCollision.cpp:libccd:287(0) WARNING: called MPR penetration for non intersecting meshes...\n",
      "[rai] array.cpp:normalizeWithJac:307(-1) can't normalize vector of length 0\n",
      "[rai] pairCollision.cpp:libccd:287(0) WARNING: called MPR penetration for non intersecting meshes...\n",
      "[rai] array.cpp:normalizeWithJac:307(-1) can't normalize vector of length 0\n",
      "[rai] pairCollision.cpp:libccd:287(0) WARNING: called MPR penetration for non intersecting meshes...\n",
      "[rai] array.cpp:normalizeWithJac:307(-1) can't normalize vector of length 0\n",
      "[rai] pairCollision.cpp:libccd:287(0) WARNING: called MPR penetration for non intersecting meshes...\n",
      "[rai] array.cpp:normalizeWithJac:307(-1) can't normalize vector of length 0\n",
      "[rai] pairCollision.cpp:libccd:287(0) WARNING: called MPR penetration for non intersecting meshes...\n",
      "[rai] array.cpp:normalizeWithJac:307(-1) can't normalize vector of length 0\n",
      "[rai] pairCollision.cpp:libccd:287(0) WARNING: called MPR penetration for non intersecting meshes...\n",
      "[rai] array.cpp:normalizeWithJac:307(-1) can't normalize vector of length 0\n",
      "[rai] pairCollision.cpp:libccd:287(0) WARNING: called MPR penetration for non intersecting meshes...\n",
      "[rai] array.cpp:normalizeWithJac:307(-1) can't normalize vector of length 0\n",
      "[rai] pairCollision.cpp:libccd:287(0) WARNING: called MPR penetration for non intersecting meshes...\n",
      "[rai] pairCollision.cpp:libccd:292(0) WARNING: but GJK says intersection\n",
      "[rai] pairCollision.cpp:libccd:287(0) WARNING: called MPR penetration for non intersecting meshes...\n",
      "[rai] array.cpp:normalizeWithJac:307(-1) can't normalize vector of length 0\n",
      "[rai] pairCollision.cpp:libccd:287(0) WARNING: called MPR penetration for non intersecting meshes...\n",
      "[rai] pairCollision.cpp:libccd:292(0) WARNING: but GJK says intersection\n",
      "[rai] pairCollision.cpp:libccd:287(0) WARNING: called MPR penetration for non intersecting meshes...\n",
      "[rai] array.cpp:normalizeWithJac:307(-1) can't normalize vector of length 0\n",
      "[rai] pairCollision.cpp:libccd:287(0) WARNING: called MPR penetration for non intersecting meshes...\n",
      "[rai] pairCollision.cpp:libccd:292(0) WARNING: but GJK says intersection\n",
      "[rai] pairCollision.cpp:libccd:287(0) WARNING: called MPR penetration for non intersecting meshes...\n",
      "[rai] array.cpp:normalizeWithJac:307(-1) can't normalize vector of length 0\n",
      "[rai] pairCollision.cpp:libccd:287(0) WARNING: called MPR penetration for non intersecting meshes...\n",
      "[rai] pairCollision.cpp:libccd:292(0) WARNING: but GJK says intersection\n",
      "[rai] pairCollision.cpp:libccd:287(0) WARNING: called MPR penetration for non intersecting meshes...\n",
      "[rai] array.cpp:normalizeWithJac:307(-1) can't normalize vector of length 0\n",
      "[rai] pairCollision.cpp:libccd:287(0) WARNING: called MPR penetration for non intersecting meshes...\n",
      "[rai] array.cpp:normalizeWithJac:307(-1) can't normalize vector of length 0\n",
      "[rai] pairCollision.cpp:libccd:287(0) WARNING: called MPR penetration for non intersecting meshes...\n",
      "[rai] array.cpp:normalizeWithJac:307(-1) can't normalize vector of length 0\n",
      "[rai] pairCollision.cpp:libccd:287(0) WARNING: called MPR penetration for non intersecting meshes...\n",
      "[rai] array.cpp:normalizeWithJac:307(-1) can't normalize vector of length 0\n",
      "[rai] pairCollision.cpp:libccd:287(0) WARNING: called MPR penetration for non intersecting meshes...\n",
      "[rai] array.cpp:normalizeWithJac:307(-1) can't normalize vector of length 0\n",
      "[rai] pairCollision.cpp:libccd:287(0) WARNING: called MPR penetration for non intersecting meshes...\n",
      "[rai] array.cpp:normalizeWithJac:307(-1) can't normalize vector of length 0\n",
      "[rai] pairCollision.cpp:libccd:287(0) WARNING: called MPR penetration for non intersecting meshes...\n",
      "[rai] array.cpp:normalizeWithJac:307(-1) can't normalize vector of length 0\n",
      "[rai] pairCollision.cpp:libccd:287(0) WARNING: called MPR penetration for non intersecting meshes...\n",
      "[rai] array.cpp:normalizeWithJac:307(-1) can't normalize vector of length 0\n",
      "[rai] pairCollision.cpp:libccd:287(0) WARNING: called MPR penetration for non intersecting meshes...\n",
      "[rai] array.cpp:normalizeWithJac:307(-1) can't normalize vector of length 0\n",
      "[rai] pairCollision.cpp:libccd:287(0) WARNING: called MPR penetration for non intersecting meshes...\n",
      "[rai] array.cpp:normalizeWithJac:307(-1) can't normalize vector of length 0\n",
      "[rai] pairCollision.cpp:libccd:287(0) WARNING: called MPR penetration for non intersecting meshes...\n",
      "[rai] array.cpp:normalizeWithJac:307(-1) can't normalize vector of length 0\n",
      "[rai] pairCollision.cpp:libccd:287(0) WARNING: called MPR penetration for non intersecting meshes...\n"
     ]
    }
   ],
   "source": [
    "m = len(waypoints)\n",
    "rrt_dofs = []\n",
    "rrt_paths = []\n",
    "for t in range(0,int(m)):\n",
    "    # grab config and waypoints\n",
    "    [Ctmp, q0, q1] = S.getTwoWaypointProblem(t, komo)\n",
    "    Ctmp.setJointState(q0);\n",
    "    Ctmp.view(True, 'waypoint configuration phase ' + str(t) + ' START')\n",
    "    Ctmp.setJointState(q1);\n",
    "    Ctmp.view(True, 'waypoint configuration phase ' + str(t) + ' STOP')\n",
    "\n",
    "    # call path finder\n",
    "    sol = ry.PathFinder()\n",
    "    sol.setProblem(Ctmp, q0, q1)\n",
    "    ret = sol.solve()\n",
    "    rrt_paths.append(ret.x)\n",
    "    rrt_dofs.append(Ctmp.getDofIDs())\n",
    "\n",
    "    #display the rrt path\n",
    "    for i in range(0,ret.x.shape[0]):\n",
    "        Ctmp.setJointState(ret.x[i])\n",
    "        Ctmp.view(False, 'rrt path ' + str(i))\n",
    "        time.sleep(.05)"
   ]
  },
  {
   "cell_type": "markdown",
   "metadata": {},
   "source": [
    "## solve for full path: create a komo instance, initialize with waypoints & rrt paths, solve"
   ]
  },
  {
   "cell_type": "code",
   "execution_count": 8,
   "metadata": {},
   "outputs": [
    {
     "name": "stdout",
     "output_type": "stream",
     "text": [
      "***** optConstrained: method=AugmentedLagrangian bounds: no\n",
      "** optConstr. it=0start evals:0 mu=1 nu=1 muLB=0.1\n",
      "** optConstr. it=0start evals:3 f(x)=0.0506034 \tg_compl=0 \th_compl=10.1001 \t|x-x'|=0.0718501\n",
      "** optConstr. it=1end   evals:3 mu=5 nu=5 muLB=0.02\n",
      "** optConstr. it=1start evals:8 f(x)=0.0436866 \tg_compl=0 \th_compl=10.1 \t|x-x'|=0.0589733\n",
      "** optConstr. it=2end   evals:8 mu=25 nu=25 muLB=0.004\n",
      "** optConstr. it=2start evals:9 f(x)=0.0429585 \tg_compl=0 \th_compl=10.1 \t|x-x'|=0.00921428\n",
      "** optConstr. StoppingCriterion Delta<0.01\n",
      "SolverReturn: { time: 0.008151, evals: 9, done: 0, feasible: 0, sos: 0.0429585, f: 0, ineq: 0, eq: 10.1 }\n"
     ]
    },
    {
     "data": {
      "text/plain": [
       "1"
      ]
     },
     "execution_count": 8,
     "metadata": {},
     "output_type": "execute_result"
    }
   ],
   "source": [
    "komo = S.getKomo_path(C, 20, .2, -1, 1e-2)\n",
    "komo.initWithWaypoints(waypoints)\n",
    "komo.view(True, 'init with waypoints only')\n",
    "for t in range(0,int(m)):\n",
    "    komo.initPhaseWithDofsPath(t, rrt_dofs[t], rrt_paths[t], True)\n",
    "    komo.view(True, 'init with RRT phase ' + str(t))\n",
    "nlp = komo.nlp()\n",
    "sol = ry.NLP_Solver()\n",
    "sol.setProblem(nlp)\n",
    "sol.setOptions( stopTolerance=1e-2 )\n",
    "ret = sol.solve()\n",
    "# report on result, view, and play\n",
    "print(ret)\n",
    "#print(nlp.report(2))\n",
    "komo.view(True, 'path solution')\n",
    "komo.view_play(True, .2)"
   ]
  },
  {
   "cell_type": "code",
   "execution_count": null,
   "metadata": {},
   "outputs": [],
   "source": [
    "C.view()"
   ]
  },
  {
   "cell_type": "code",
   "execution_count": null,
   "metadata": {},
   "outputs": [],
   "source": []
  }
 ],
 "metadata": {
  "kernelspec": {
   "display_name": "Python 3 (ipykernel)",
   "language": "python",
   "name": "python3"
  },
  "language_info": {
   "codemirror_mode": {
    "name": "ipython",
    "version": 3
   },
   "file_extension": ".py",
   "mimetype": "text/x-python",
   "name": "python",
   "nbconvert_exporter": "python",
   "pygments_lexer": "ipython3",
   "version": "3.8.10"
  },
  "vscode": {
   "interpreter": {
    "hash": "916dbcbb3f70747c44a77c7bcd40155683ae19c65e1c03b4aa3499c5328201f1"
   }
  }
 },
 "nbformat": 4,
 "nbformat_minor": 2
}

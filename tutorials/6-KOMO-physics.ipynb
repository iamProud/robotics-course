{
 "cells": [
  {
   "cell_type": "code",
   "execution_count": 1,
   "metadata": {},
   "outputs": [
    {
     "name": "stdout",
     "output_type": "stream",
     "text": [
      "**ry-c++-log** ry.cpp:init_LogToPythonConsole:34(0) initializing ry log callback\n",
      "\n",
      "**ry-c++-log** util.cpp:initCmdLine:545(1) ** cmd line arguments: 'rai-pybind -python '\n",
      "** INFO:ry.cpp:init_LogToPythonConsole:34(0) initializing ry log callback\n",
      "\n",
      "**ry-c++-log** util.cpp:initCmdLine:549(1) ** run path: '/home/basti/Dokumente/Bachelorarbeit/rai-python/tutorials'\n",
      "** INFO:util.cpp:initCmdLine:545(1) ** cmd line arguments: 'rai-pybind -python '\n",
      "\n",
      "**ry-c++-log** graph.cpp:initParameters:1379(1) ** parsed parameters:\n",
      "{python,\n",
      "LGP/cameraFocus:[1, 0.5, 1],\n",
      "LGP/collisions:1,\n",
      "LGP/stopTime:300,\n",
      "LGP/stopSol:6,\n",
      "opt/maxStep:0.1,\n",
      "opt/verbose:6,\n",
      "opt/boundedNewton!}\n",
      "\n",
      "** INFO:util.cpp:initCmdLine:549(1) ** run path: '/home/basti/Dokumente/Bachelorarbeit/rai-python/tutorials'\n",
      "\n",
      "** INFO:graph.cpp:initParameters:1379(1) ** parsed parameters:\n",
      "{python,\n",
      "LGP/cameraFocus:[1, 0.5, 1],\n",
      "LGP/collisions:1,\n",
      "LGP/stopTime:300,\n",
      "LGP/stopSol:6,\n",
      "opt/maxStep:0.1,\n",
      "opt/verbose:6,\n",
      "opt/boundedNewton!}\n",
      "\n"
     ]
    }
   ],
   "source": [
    "import sys\n",
    "sys.path.append('../build')\n",
    "import numpy as np\n",
    "import libry as ry"
   ]
  },
  {
   "cell_type": "code",
   "execution_count": null,
   "metadata": {},
   "outputs": [
    {
     "name": "stdout",
     "output_type": "stream",
     "text": [
      "**ry-c++-log** util.cpp:cd_file:996(-2) couldn't change to directory '../test' from '/home/basti/Dokumente/Bachelorarbeit/rai-python/tutorials'\n"
     ]
    }
   ],
   "source": [
    "# load and display a configuration\n",
    "C = ry.Config()\n",
    "C.addFile('../test/boxProblem.g')\n",
    "D = C.view()\n",
    "C.getFrameNames()"
   ]
  },
  {
   "cell_type": "code",
   "execution_count": null,
   "metadata": {},
   "outputs": [],
   "source": [
    "# create a standard path optimization problem with 4 phases, each of .2 seconds, and 10 steps\n",
    "komo = C.komo_path(5., 10, .2, False)"
   ]
  },
  {
   "cell_type": "code",
   "execution_count": null,
   "metadata": {},
   "outputs": [],
   "source": [
    "# create tau-DOFs (time intervals) in the optimization problem and add respective constraints\n",
    "komo.addTimeOptimization()"
   ]
  },
  {
   "cell_type": "code",
   "execution_count": null,
   "metadata": {},
   "outputs": [],
   "source": [
    "# take one object, and first 'switch' it to become freely movable without costs,\n",
    "# then, starting at phase .7, make it dynamic (imposing NE equations)\n",
    "obj = 'ballR'\n",
    "#komo.addSwitch_magic(.0, 'base', obj)\n",
    "komo.makeObjectsFree([\"ballR\"]);"
   ]
  },
  {
   "cell_type": "code",
   "execution_count": null,
   "metadata": {},
   "outputs": [],
   "source": [
    "# (old) a way to constrain the object position to be 'before' the box before phase 0.2\n",
    "#komo.addObjective(time=[0., .2], type=OT.ineq, feature=FS.position, frames=[obj], scaleTrans=[[0.,1.,0.]], target=[1.])"
   ]
  },
  {
   "cell_type": "code",
   "execution_count": null,
   "metadata": {},
   "outputs": [],
   "source": [
    "# objectives for collision (permanent) and target (at phase-time 4.)\n",
    "komo.addObjective(type=ry.OT.sos, feature=ry.FS.accumulatedCollisions)\n",
    "komo.addObjective(time=[5.], type=ry.OT.eq, feature=ry.FS.distance, frames=['target', obj], scale=[3e1])"
   ]
  },
  {
   "cell_type": "code",
   "execution_count": null,
   "metadata": {},
   "outputs": [],
   "source": [
    "# simple structure of this solution: bounce on the bottom of the box at times 1, 2, and 3\n",
    "komo.addSwitch_dynamicTrans(1., -1., 'base', obj)\n",
    "komo.addInteraction_elasticBounce(2., \"boxBo\", obj, .8)\n",
    "komo.addInteraction_elasticBounce(3., \"boxBo\", obj, .8)\n",
    "komo.addInteraction_elasticBounce(4., \"boxBo\", obj, .8)"
   ]
  },
  {
   "cell_type": "code",
   "execution_count": null,
   "metadata": {},
   "outputs": [],
   "source": [
    "komo.optimize(True)"
   ]
  },
  {
   "cell_type": "code",
   "execution_count": null,
   "metadata": {},
   "outputs": [],
   "source": [
    "komoView = komo.view()"
   ]
  },
  {
   "cell_type": "code",
   "execution_count": null,
   "metadata": {},
   "outputs": [],
   "source": [
    "komo.display()"
   ]
  },
  {
   "cell_type": "code",
   "execution_count": null,
   "metadata": {},
   "outputs": [],
   "source": [
    "# read out solution: the full frame path, the tau path (time optimization), list of interaction forces\n",
    "obj_path = komo.getPathFrames([obj])\n",
    "tau_path = komo.getPathTau()\n",
    "forces = komo.getForceInteractions()\n",
    "forces"
   ]
  },
  {
   "cell_type": "markdown",
   "metadata": {},
   "source": [
    "Conversion from steps to phase and time:\n",
    "```\n",
    "phase=0 is the FIXED initial configuration and corresponds to step=-1\n",
    "step=0 is the first configuration s.t. optimization\n",
    "\\tau(s) gives the time between step s-1 and step s\n",
    "phase(step s) = (s+1)/stepsPerPhase\n",
    "time(step s) = sum i=0:s tau(i)\n",
    "```"
   ]
  },
  {
   "cell_type": "code",
   "execution_count": null,
   "metadata": {},
   "outputs": [],
   "source": [
    "D=0\n",
    "komoView=0\n",
    "komo=0\n",
    "C=0"
   ]
  },
  {
   "cell_type": "code",
   "execution_count": null,
   "metadata": {},
   "outputs": [],
   "source": []
  }
 ],
 "metadata": {
  "kernelspec": {
   "display_name": "Python 3 (ipykernel)",
   "language": "python",
   "name": "python3"
  },
  "language_info": {
   "codemirror_mode": {
    "name": "ipython",
    "version": 3
   },
   "file_extension": ".py",
   "mimetype": "text/x-python",
   "name": "python",
   "nbconvert_exporter": "python",
   "pygments_lexer": "ipython3",
   "version": "3.8.10"
  }
 },
 "nbformat": 4,
 "nbformat_minor": 2
}

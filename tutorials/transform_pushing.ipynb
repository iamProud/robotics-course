{
 "cells": [
  {
   "cell_type": "markdown",
   "metadata": {},
   "source": [
    "# Transform pushing"
   ]
  },
  {
   "cell_type": "code",
   "execution_count": 1,
   "metadata": {},
   "outputs": [
    {
     "name": "stdout",
     "output_type": "stream",
     "text": [
      "**ry-c++-log** ry.cpp:init_LogToPythonConsole:34(0) initializing ry log callback\n",
      "\n",
      "**ry-c++-log** util.cpp:initCmdLine:545(1) ** cmd line arguments: 'rai-pybind -python '\n",
      "** INFO:ry.cpp:init_LogToPythonConsole:34(0) initializing ry log callback\n",
      "\n",
      "**ry-c++-log** util.cpp:initCmdLine:549(1) ** run path: '/home/basti/Dokumente/Bachelorarbeit/rai-python/tutorials'\n",
      "** INFO:util.cpp:initCmdLine:545(1) ** cmd line arguments: 'rai-pybind -python '\n",
      "\n",
      "**ry-c++-log** graph.cpp:initParameters:1379(1) ** parsed parameters:\n",
      "{python,\n",
      "LGP/cameraFocus:[1, 0.5, 1],\n",
      "LGP/collisions:1,\n",
      "LGP/stopTime:300,\n",
      "LGP/stopSol:6,\n",
      "opt/maxStep:0.1,\n",
      "opt/verbose:6,\n",
      "opt/boundedNewton!}\n",
      "** INFO:util.cpp:initCmdLine:549(1) ** run path: '/home/basti/Dokumente/Bachelorarbeit/rai-python/tutorials'\n",
      "\n",
      "\n",
      "** INFO:graph.cpp:initParameters:1379(1) ** parsed parameters:\n",
      "{python,\n",
      "LGP/cameraFocus:[1, 0.5, 1],\n",
      "LGP/collisions:1,\n",
      "LGP/stopTime:300,\n",
      "LGP/stopSol:6,\n",
      "opt/maxStep:0.1,\n",
      "opt/verbose:6,\n",
      "opt/boundedNewton!}\n",
      "\n"
     ]
    }
   ],
   "source": [
    "import os\n",
    "import sys\n",
    "sys.path += ['../build', '../../../build', '../../lib']\n",
    "# print(sys.version)\n",
    "import numpy as np\n",
    "import libry as ry"
   ]
  },
  {
   "cell_type": "markdown",
   "metadata": {},
   "source": [
    "## Generating World\n",
    "\n",
    "Set some variables."
   ]
  },
  {
   "cell_type": "code",
   "execution_count": 2,
   "metadata": {},
   "outputs": [],
   "source": [
    "def get_world(folder, idx):\n",
    "    world_list = []\n",
    "\n",
    "    file = f'{idx}.txt'\n",
    "\n",
    "    f = open(folder+file, 'r')\n",
    "    \n",
    "    for line in f:\n",
    "        row = []\n",
    "\n",
    "        for char in line:\n",
    "            if char == '\\n':\n",
    "                break\n",
    "\n",
    "            row.append([int(char)])\n",
    "\n",
    "        world_list.append(row)\n",
    "\n",
    "\n",
    "    world = np.asarray(world_list)\n",
    "#     world = world[1:-1,1:-1]\n",
    "    off = -np.floor(world.shape[0] / 2) + 0.5\n",
    "    \n",
    "    return world, off"
   ]
  },
  {
   "cell_type": "markdown",
   "metadata": {},
   "source": [
    "Iterate over world Array and generate Environment."
   ]
  },
  {
   "cell_type": "code",
   "execution_count": 7,
   "metadata": {},
   "outputs": [],
   "source": [
    "def transform_world(C, world, off, colors):\n",
    "    pusher = C.addFile('/home/basti/Dokumente/Bachelorarbeit/rai-python/my-robotModels/cylRobo/robo.g')\n",
    "\n",
    "    for x in range(world.shape[0]):\n",
    "        for y in range(world.shape[1]):\n",
    "            if(world[x][y] == 5):\n",
    "                continue\n",
    "            \n",
    "            empty = C.addFrame(name=f'empty_{x}_{y}', parent='floor', args='type:ssBox size:[1, 1, 1, 0], contact, joint:rigid')\n",
    "            empty.setPosition([(x+off), (y+off), -0.5])\n",
    "            empty.setMass(100.0)\n",
    "            \n",
    "            if(world[x][y] == 1):\n",
    "                c = colors[(x+y) % 2]\n",
    "                block = C.addFrame(name=f'block_{x}_{y}', parent='floor', args=f'type:ssBox size:[1, 1, 1, .02] color=[{c[0]}, {c[1]}, {c[2]}], contact, joint:rigid')\n",
    "                block.setPosition([(x+off), (y+off), 0.5])\n",
    "                block.setMass(100.0)\n",
    "\n",
    "            if(world[x][y] == 2):\n",
    "                pusher = C.getFrame(frameName='robo')\n",
    "                pusher.setPosition([(x+off), (y+off), 0.1])\n",
    "\n",
    "            if(world[x][y] == 3):\n",
    "                box = C.addFrame(name=f'box_{x}_{y}', parent='floor', args='type:ssBox size:[.9, .9, 1, .02] color=[.6, .3, 0.], contact')\n",
    "                box.setPosition([(x+off), (y+off), 0.5])\n",
    "                box.setMass(100.0)\n",
    "            if(world[x][y] == 4):\n",
    "                goal = C.addFrame(name=f'goal_{x}_{y}', parent='floor', args='type:ssBox size=[.95, .95, .002, .002] color:[0., 1., 0.], joint:rigid')\n",
    "                goal.setPosition([(x+off), (y+off), -0.001])\n"
   ]
  },
  {
   "cell_type": "code",
   "execution_count": 8,
   "metadata": {},
   "outputs": [],
   "source": [
    "run = 1\n",
    "\n",
    "########\n",
    "SAFE_DIR = f'/home/basti/Dokumente/Bachelorarbeit/gym-pcgrl/shared_runs/pushing_turtle_{run}_log/generated/'\n",
    "colors = [[.8, .1, .1], [1., .3, .2]]\n",
    "\n",
    "n = -1\n",
    "listdir = os.listdir(SAFE_DIR)\n",
    "for f in listdir:\n",
    "    try:\n",
    "        val = int(f.split('.')[0])\n",
    "        n = max(n, val)\n",
    "    except ValueError:\n",
    "        continue      \n",
    "    \n",
    "for i in range(0, n+1):\n",
    "    C = ry.Config()\n",
    "    C.clear()\n",
    "        \n",
    "    world, off = get_world(SAFE_DIR, i)\n",
    "    \n",
    "#     floor = C.addFrame(name='floor', args=f'type:ssBox size=[{world.shape[0]}, {world.shape[1]}, .01, 0] ')\n",
    "#     floor.setPosition([0, 0, -0.005])\n",
    "        \n",
    "    transform_world(C, world, off, colors)\n",
    "        \n",
    "    g_file = f'{i}.g'\n",
    "    C.save(SAFE_DIR+g_file)\n",
    "    C.view()"
   ]
  },
  {
   "cell_type": "code",
   "execution_count": 7,
   "metadata": {},
   "outputs": [],
   "source": [
    "C = ry.Config()\n",
    "C.clear()\n",
    "\n",
    "run = 1\n",
    "file = 0\n",
    "C.addFile(f'/home/basti/Dokumente/Bachelorarbeit/gym-pcgrl/shared_runs/pushing_turtle_{run}_log/generated/{file}.g')\n",
    "# C.addFile('../my-robotModels/p30-puzzle5.g')\n",
    "C.view()"
   ]
  },
  {
   "cell_type": "code",
   "execution_count": null,
   "metadata": {},
   "outputs": [],
   "source": [
    "pusher = C.addFrame(name=f'pusher', parent='floor', args=f'type:cylinder size:[0.02, 0.03] color=[0.6, 1, 0.5]')\n",
    "pusher.setPosition([(x+off), (y+off), 0.11])"
   ]
  }
 ],
 "metadata": {
  "kernelspec": {
   "display_name": "Python 3 (ipykernel)",
   "language": "python",
   "name": "python3"
  },
  "language_info": {
   "codemirror_mode": {
    "name": "ipython",
    "version": 3
   },
   "file_extension": ".py",
   "mimetype": "text/x-python",
   "name": "python",
   "nbconvert_exporter": "python",
   "pygments_lexer": "ipython3",
   "version": "3.8.10"
  },
  "vscode": {
   "interpreter": {
    "hash": "916dbcbb3f70747c44a77c7bcd40155683ae19c65e1c03b4aa3499c5328201f1"
   }
  }
 },
 "nbformat": 4,
 "nbformat_minor": 2
}

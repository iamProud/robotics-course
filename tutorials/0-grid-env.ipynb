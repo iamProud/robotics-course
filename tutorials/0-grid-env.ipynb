{
 "cells": [
  {
   "cell_type": "markdown",
   "metadata": {},
   "source": [
    "# Custom Grid-World"
   ]
  },
  {
   "cell_type": "code",
   "execution_count": 1,
   "metadata": {},
   "outputs": [
    {
     "name": "stdout",
     "output_type": "stream",
     "text": [
      "3.8.10 (default, Jun 22 2022, 20:18:18) \n",
      "[GCC 9.4.0]\n",
      "**ry-c++-log** ry.cpp:init_LogToPythonConsole:34(0) initializing ry log callback\n",
      "\n",
      "**ry-c++-log** util.cpp:initCmdLine:545(1) ** cmd line arguments: 'rai-pybind -python '\n",
      "** INFO:ry.cpp:init_LogToPythonConsole:34(0) initializing ry log callback\n",
      "\n",
      "**ry-c++-log** util.cpp:initCmdLine:549(1) ** run path: '/home/basti/Dokumente/Bachelorarbeit/rai-python/tutorials'\n",
      "** INFO:util.cpp:initCmdLine:545(1) ** cmd line arguments: 'rai-pybind -python '\n",
      "\n",
      "**ry-c++-log** graph.cpp:initParameters:1379(1) ** parsed parameters:\n",
      "{python,\n",
      "LGP/cameraFocus:[1, 0.5, 1],\n",
      "LGP/collisions:1,\n",
      "LGP/stopTime:300,\n",
      "LGP/stopSol:6,\n",
      "opt/maxStep:0.1,\n",
      "opt/verbose:6,\n",
      "opt/boundedNewton!}\n",
      "\n",
      "** INFO:util.cpp:initCmdLine:549(1) ** run path: '/home/basti/Dokumente/Bachelorarbeit/rai-python/tutorials'\n",
      "\n",
      "** INFO:graph.cpp:initParameters:1379(1) ** parsed parameters:\n",
      "{python,\n",
      "LGP/cameraFocus:[1, 0.5, 1],\n",
      "LGP/collisions:1,\n",
      "LGP/stopTime:300,\n",
      "LGP/stopSol:6,\n",
      "opt/maxStep:0.1,\n",
      "opt/verbose:6,\n",
      "opt/boundedNewton!}\n",
      "\n"
     ]
    }
   ],
   "source": [
    "import sys\n",
    "sys.path += ['../build', '../../../build', '../../lib']\n",
    "print(sys.version)\n",
    "import numpy as np\n",
    "import libry as ry"
   ]
  },
  {
   "cell_type": "markdown",
   "metadata": {},
   "source": [
    "## Setting up a basic Config"
   ]
  },
  {
   "cell_type": "code",
   "execution_count": 2,
   "metadata": {},
   "outputs": [],
   "source": [
    "C = ry.Config()\n",
    "C.view()"
   ]
  },
  {
   "cell_type": "markdown",
   "metadata": {},
   "source": [
    "Add base-grid with walls"
   ]
  },
  {
   "cell_type": "code",
   "execution_count": 3,
   "metadata": {},
   "outputs": [],
   "source": [
    "C.clear()\n",
    "C.addFile('../rai-robotModels/test/base-grid.g')\n",
    "C.addFile('../rai-robotModels/pr2/pr2.g');"
   ]
  },
  {
   "cell_type": "markdown",
   "metadata": {},
   "source": [
    "## Generating World\n",
    "\n",
    "Set some variables."
   ]
  },
  {
   "cell_type": "code",
   "execution_count": 4,
   "metadata": {},
   "outputs": [],
   "source": [
    "colors = [[.8, .1, .1], [1., .3, .2]]\n",
    "world = np.array([\n",
    "    [1, 1, 1, 1, 1, 1, 1],\n",
    "    [1, 4, 0, 0, 0, 0, 1],\n",
    "    [1, 0, 3, 1, 3, 0, 1],\n",
    "    [1, 1, 0, 1, 0, 1, 1],\n",
    "    [1, 0, 2, 0, 3, 0, 1],\n",
    "    [1, 4, 0, 0, 0, 4, 1],\n",
    "    [1, 1, 1, 1, 1, 1, 1]\n",
    "])\n",
    "\n",
    "off = -3"
   ]
  },
  {
   "cell_type": "markdown",
   "metadata": {},
   "source": [
    "Iterate over world Array and generate Environment."
   ]
  },
  {
   "cell_type": "code",
   "execution_count": 5,
   "metadata": {},
   "outputs": [],
   "source": [
    "for x in range(world.shape[0]):\n",
    "    for y in range(world.shape[1]):\n",
    "        if(world[x][y] == 1):\n",
    "            c = colors[(x+y) % 2]\n",
    "            C.addObject(name='block', shape=ry.ST.ssBox, pos=[x+off, y+off, .5], size=[1, 1, 1, .02], color=c)\n",
    "        \n",
    "        if(world[x][y] == 2):\n",
    "            C.selectJointsByTag([\"base\"])\n",
    "            C.setJointState([x+off, y+off, 0])\n",
    "        \n",
    "        if(world[x][y] == 3):\n",
    "            box = C.addObject(name='box', shape=ry.ST.ssBox, pos=[x+off, y+off, .45], size=[.9, .9, .9, .02], color=[.6, .3, 0.])\n",
    "        \n",
    "        if(world[x][y] == 4):\n",
    "            C.addObject(name='goal', shape=ry.ST.ssBox, pos=[x+off, y+off, .05], size=[.95, .95, .1, .05], color=[0., 1., 0.])\n"
   ]
  },
  {
   "cell_type": "markdown",
   "metadata": {},
   "source": [
    "## Collision\n",
    "Calculate Collision between All Frames."
   ]
  },
  {
   "cell_type": "code",
   "execution_count": 129,
   "metadata": {},
   "outputs": [
    {
     "data": {
      "text/plain": [
       "(array([0.]), array([[0., 0., 0.]]))"
      ]
     },
     "execution_count": 129,
     "metadata": {},
     "output_type": "execute_result"
    }
   ],
   "source": [
    "coll = C.feature(ry.FS.accumulatedCollisions, [])\n",
    "\n",
    "C.computeCollisions() #collisions/proxies are not automatically computed on set...State\n",
    "coll.eval(C)\n",
    "\n",
    "# C.getCollisions(0)"
   ]
  },
  {
   "cell_type": "markdown",
   "metadata": {},
   "source": [
    "Calculate Collision (or other Features) between two Frames."
   ]
  },
  {
   "cell_type": "code",
   "execution_count": 130,
   "metadata": {},
   "outputs": [
    {
     "data": {
      "text/plain": [
       "(array([-1.73706171]), array([[-0.99909709,  0.04248524, -0.49631358]]))"
      ]
     },
     "execution_count": 130,
     "metadata": {},
     "output_type": "execute_result"
    }
   ],
   "source": [
    "dist = C.feature(ry.FS.distance, ['coll_wrist_r', 'box'])\n",
    "dist.eval(C)"
   ]
  },
  {
   "cell_type": "markdown",
   "metadata": {},
   "source": [
    "## Path Optimization"
   ]
  },
  {
   "cell_type": "code",
   "execution_count": 8,
   "metadata": {},
   "outputs": [
    {
     "name": "stdout",
     "output_type": "stream",
     "text": [
      "** KOMO::run solver:sparse collisions:1 x-dim:60 T:20 k:2 phases:1 stepsPerPhase:20 tau:0.5  #timeSlices:22 #totalDOFs:60 #frames:4378\n",
      "** optimization time:0.202076 (kin:0.02007 coll:0.127793 feat:0.043001 newton: 0.004083) setJointStateCount:46\n",
      "   sos:0.00277356 ineq:0 eq:2\n"
     ]
    },
    {
     "data": {
      "text/plain": [
       "0"
      ]
     },
     "execution_count": 8,
     "metadata": {},
     "output_type": "execute_result"
    }
   ],
   "source": [
    "X0 = C.getFrameState()\n",
    "\n",
    "obj1 = \"box\";\n",
    "arm = \"pr2L\";\n",
    "\n",
    "komo = C.komo_path(1., 20, 10., True)\n",
    "\n",
    "komo.addObjective([], ry.FS.accumulatedCollisions, [], ry.OT.eq)\n",
    "# komo.addObjective([], ry.FS.jointLimits, [], ry.OT.ineq);\n",
    "# komo.addObjective([1.], ry.FS.distance, [arm, obj1], ry.OT.eq, [1e2]);\n",
    "\n",
    "komo.addObjective(times=[1.], feature=ry.FS.position, frames=['base'], type=ry.OT.eq, scale=[1, 1, 0], target=[1, 1, 0]);\n",
    "\n",
    "\n",
    "komo.optimize()\n",
    "komo.getReport()\n",
    "komo.view(False, \"my solution\")"
   ]
  },
  {
   "cell_type": "code",
   "execution_count": 10,
   "metadata": {},
   "outputs": [
    {
     "data": {
      "text/plain": [
       "0"
      ]
     },
     "execution_count": 10,
     "metadata": {},
     "output_type": "execute_result"
    }
   ],
   "source": [
    "komo.view_play(False, .1)"
   ]
  },
  {
   "cell_type": "code",
   "execution_count": null,
   "metadata": {},
   "outputs": [],
   "source": []
  }
 ],
 "metadata": {
  "kernelspec": {
   "display_name": "Python 3 (ipykernel)",
   "language": "python",
   "name": "python3"
  },
  "language_info": {
   "codemirror_mode": {
    "name": "ipython",
    "version": 3
   },
   "file_extension": ".py",
   "mimetype": "text/x-python",
   "name": "python",
   "nbconvert_exporter": "python",
   "pygments_lexer": "ipython3",
   "version": "3.8.10"
  }
 },
 "nbformat": 4,
 "nbformat_minor": 2
}

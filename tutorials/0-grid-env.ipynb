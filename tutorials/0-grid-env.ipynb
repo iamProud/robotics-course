{
 "cells": [
  {
   "cell_type": "markdown",
   "metadata": {},
   "source": [
    "# Custom Grid-World"
   ]
  },
  {
   "cell_type": "code",
   "execution_count": 1,
   "metadata": {},
   "outputs": [
    {
     "name": "stdout",
     "output_type": "stream",
     "text": [
      "3.8.10 (default, Nov 14 2022, 12:59:47) \n",
      "[GCC 9.4.0]\n",
      "**ry-c++-log** ry.cpp:init_LogToPythonConsole:34(0) initializing ry log callback\n",
      "\n",
      "**ry-c++-log** util.cpp:initCmdLine:545(1) ** cmd line arguments: 'rai-pybind -python '\n",
      "** INFO:ry.cpp:init_LogToPythonConsole:34(0) initializing ry log callback\n",
      "\n",
      "**ry-c++-log** util.cpp:initCmdLine:549(1) ** run path: '/home/basti/Dokumente/Bachelorarbeit/rai-python/tutorials'\n",
      "** INFO:util.cpp:initCmdLine:545(1) ** cmd line arguments: 'rai-pybind -python '\n",
      "\n",
      "**ry-c++-log** graph.cpp:initParameters:1379(1) ** parsed parameters:\n",
      "{python,\n",
      "LGP/cameraFocus:[1, 0.5, 1],\n",
      "LGP/collisions:1,\n",
      "LGP/stopTime:300,\n",
      "LGP/stopSol:6,\n",
      "opt/maxStep:0.1,\n",
      "opt/verbose:6,\n",
      "opt/boundedNewton!}\n",
      "\n",
      "** INFO:util.cpp:initCmdLine:549(1) ** run path: '/home/basti/Dokumente/Bachelorarbeit/rai-python/tutorials'\n",
      "\n",
      "** INFO:graph.cpp:initParameters:1379(1) ** parsed parameters:\n",
      "{python,\n",
      "LGP/cameraFocus:[1, 0.5, 1],\n",
      "LGP/collisions:1,\n",
      "LGP/stopTime:300,\n",
      "LGP/stopSol:6,\n",
      "opt/maxStep:0.1,\n",
      "opt/verbose:6,\n",
      "opt/boundedNewton!}\n",
      "\n"
     ]
    }
   ],
   "source": [
    "import sys\n",
    "sys.path += ['../build', '../../../build', '../../lib']\n",
    "print(sys.version)\n",
    "import numpy as np\n",
    "import libry as ry"
   ]
  },
  {
   "cell_type": "markdown",
   "metadata": {},
   "source": [
    "## Setting up a basic Config"
   ]
  },
  {
   "cell_type": "code",
   "execution_count": 2,
   "metadata": {},
   "outputs": [],
   "source": [
    "C = ry.Config()\n",
    "C.view()"
   ]
  },
  {
   "cell_type": "markdown",
   "metadata": {},
   "source": [
    "Add base-grid with walls"
   ]
  },
  {
   "cell_type": "code",
   "execution_count": 4,
   "metadata": {},
   "outputs": [],
   "source": [
    "C.clear()\n",
    "# C.addFile('../my-robotModels/test/base-grid.g')\n",
    "C.addFile('../my-robotModels/simpleRobo/robo.g')"
   ]
  },
  {
   "cell_type": "markdown",
   "metadata": {},
   "source": [
    "## Generating World\n",
    "\n",
    "Set some variables."
   ]
  },
  {
   "cell_type": "code",
   "execution_count": 5,
   "metadata": {},
   "outputs": [],
   "source": [
    "colors = [[.8, .1, .1], [1., .3, .2]]"
   ]
  },
  {
   "cell_type": "code",
   "execution_count": 6,
   "metadata": {},
   "outputs": [],
   "source": [
    "world_list = []\n",
    "\n",
    "SAFE_FILE = 'demo.txt'\n",
    "SAFE_DIR = '/home/basti/Dokumente/Bachelorarbeit/Observations/{}'.format(SAFE_FILE)\n",
    "\n",
    "f = open(SAFE_DIR, 'r')\n",
    "\n",
    "for line in f:\n",
    "    row = []\n",
    "    \n",
    "    for char in line:\n",
    "        if char == '\\n':\n",
    "            break\n",
    "            \n",
    "        row.append([int(char)])\n",
    "        \n",
    "    world_list.append(row)\n",
    "    \n",
    "\n",
    "world = np.asarray(world_list)\n",
    "off = -np.floor(world.shape[0] / 2)"
   ]
  },
  {
   "cell_type": "code",
   "execution_count": 7,
   "metadata": {},
   "outputs": [],
   "source": [
    "# world = np.array([\n",
    "#     [1, 1, 1, 1, 1, 1, 1],\n",
    "#     [1, 4, 0, 0, 0, 0, 1],\n",
    "#     [1, 0, 3, 1, 3, 0, 1],\n",
    "#     [1, 1, 0, 1, 0, 1, 1],\n",
    "#     [1, 0, 2, 0, 3, 4, 1],\n",
    "#     [1, 4, 0, 0, 0, 0, 1],\n",
    "#     [1, 1, 1, 1, 1, 1, 1]\n",
    "# ])\n",
    "\n",
    "# off = -3"
   ]
  },
  {
   "cell_type": "markdown",
   "metadata": {},
   "source": [
    "Iterate over world Array and generate Environment."
   ]
  },
  {
   "cell_type": "code",
   "execution_count": 8,
   "metadata": {},
   "outputs": [
    {
     "name": "stdout",
     "output_type": "stream",
     "text": [
      "[0. 0. 0.]\n",
      "[-1.   1.   0.2]\n"
     ]
    }
   ],
   "source": [
    "roboFrame = 'robo'\n",
    "\n",
    "for x in range(world.shape[0]):\n",
    "    for y in range(world.shape[1]):\n",
    "        if(world[x][y] == 1):\n",
    "            c = colors[(x+y) % 2]\n",
    "            block = C.addObject(name='block'+str(x)+'-'+str(y), parent='world', shape=ry.ST.ssBox, pos=[x+off, y+off, .5], size=[1, 1, 1, .02], color=c)\n",
    "            block.setMass(100.0)\n",
    "            block.setContact(1)\n",
    "        \n",
    "        if(world[x][y] == 2):\n",
    "            prevPos = C.getFrame(roboFrame).getPosition()\n",
    "            print(prevPos)\n",
    "            currPos = C.getFrame(roboFrame).setPosition([x+off, y+off, .2])\n",
    "            print(C.getFrame(roboFrame).getPosition())\n",
    "#             C.selectJointsByTag([roboFrame])\n",
    "#             C.setJointState([x+off, y+off, 0])\n",
    "        \n",
    "        if(world[x][y] == 3):\n",
    "            box = C.addObject(name='box'+str(x)+ '-' +str(y), parent='world', shape=ry.ST.ssBox, pos=[x+off, y+off, .45], size=[.9, .9, .9, .02], color=[.6, .3, 0.])\n",
    "        \n",
    "        if(world[x][y] == 4):\n",
    "            C.addObject(name='goal'+str(x)+'-'+str(y), parent='world', shape=ry.ST.ssBox, pos=[x+off, y+off, .05], size=[.95, .95, .1, .05], color=[0., 1., 0.])\n"
   ]
  },
  {
   "cell_type": "code",
   "execution_count": 8,
   "metadata": {},
   "outputs": [],
   "source": [
    "# print('joint names: ', C.getFrameNames() )"
   ]
  },
  {
   "cell_type": "markdown",
   "metadata": {},
   "source": [
    "## Collision\n",
    "Calculate Collision between All Frames."
   ]
  },
  {
   "cell_type": "code",
   "execution_count": 9,
   "metadata": {},
   "outputs": [],
   "source": [
    "# coll = C.feature(ry.FS.accumulatedCollisions, [])\n",
    "\n",
    "# C.computeCollisions() #collisions/proxies are not automatically computed on set...State\n",
    "# coll.eval(C)\n",
    "\n",
    "# # C.getCollisions(0)"
   ]
  },
  {
   "cell_type": "markdown",
   "metadata": {},
   "source": [
    "Calculate Collision (or other Features) between two Frames."
   ]
  },
  {
   "cell_type": "code",
   "execution_count": 10,
   "metadata": {},
   "outputs": [],
   "source": [
    "# dist = C.feature(ry.FS.distance, ['body', 'base'])\n",
    "# dist.eval(C)"
   ]
  },
  {
   "cell_type": "markdown",
   "metadata": {},
   "source": [
    "## Path Optimization"
   ]
  },
  {
   "cell_type": "code",
   "execution_count": 11,
   "metadata": {},
   "outputs": [],
   "source": [
    "# X0 = C.getFrameState()\n",
    "\n",
    "# obj1 = \"box4-4\";\n",
    "\n",
    "# # objFrame = C.getFrame(obj1)\n",
    "# # print(objFrame.getPosition())\n",
    "\n",
    "# komo = C.komo_path(1., 20, 10., True)\n",
    "\n",
    "# komo.addObjective([], ry.FS.accumulatedCollisions, [], ry.OT.eq)\n",
    "# komo.addObjective([], ry.FS.jointLimits, [], ry.OT.ineq);\n",
    "\n",
    "# # both arms on box4-4\n",
    "# komo.addObjective([1.], ry.FS.distance, [\"armL\", obj1], ry.OT.eq, [1e2]);\n",
    "# komo.addObjective([1.], ry.FS.distance, [\"armR\", obj1], ry.OT.eq, [1e2]);\n",
    "\n",
    "# # box4-4 inside goal\n",
    "# komo.addObjective(times=[1.], feature=ry.FS.aboveBox, frames=[obj1, \"goal4-5\"], type=ry.OT.eq, scale=[1e2])\n",
    "\n",
    "# komo.addObjective(times=[1.], feature=ry.FS.qItself, type=ry.OT.eq, order=1);\n",
    "\n",
    "\n",
    "\n",
    "# # komo.addObjective(times=[1.], feature=ry.FS.position, frames=[roboFrame], type=ry.OT.eq, scale=[1, 1, 0], target=[1, 1, 0]);\n",
    "\n",
    "\n",
    "# komo.optimize()\n",
    "# komo.getReport()\n",
    "# komo.view(False, \"my solution\")"
   ]
  },
  {
   "cell_type": "markdown",
   "metadata": {},
   "source": [
    "## change Position"
   ]
  },
  {
   "cell_type": "code",
   "execution_count": 8,
   "metadata": {},
   "outputs": [],
   "source": [
    "C.getFrame(roboFrame).setPosition([1, 0, 0])"
   ]
  },
  {
   "cell_type": "code",
   "execution_count": 10,
   "metadata": {},
   "outputs": [],
   "source": [
    "C.delFrame('target')\n",
    "target = C.addObject(name='target', parent='world', shape=ry.ST.capsule, pos=[1, 1, .5], size=[0, .1], color=[0, 1, 0])"
   ]
  },
  {
   "cell_type": "code",
   "execution_count": 17,
   "metadata": {},
   "outputs": [
    {
     "name": "stdout",
     "output_type": "stream",
     "text": [
      "** KOMO::run solver:sparse collisions:1 x-dim:60 T:20 k:2 phases:1 stepsPerPhase:20 tau:0.25  #timeSlices:22 #totalDOFs:60 #frames:2838\n"
     ]
    },
    {
     "data": {
      "text/plain": [
       "0"
      ]
     },
     "execution_count": 17,
     "metadata": {},
     "output_type": "execute_result"
    },
    {
     "name": "stdout",
     "output_type": "stream",
     "text": [
      "** optimization time:0.21538 (kin:0.001312 coll:0.184121 feat:0.023462 newton: 0.001899) setJointStateCount:74\n",
      "   sos:10.0857 ineq:0 eq:2.63416e+06\n"
     ]
    }
   ],
   "source": [
    "s = 1e7\n",
    "\n",
    "komo = C.komo_path(1, 20, 5, True)\n",
    "\n",
    "komo.addObjective([], ry.FS.accumulatedCollisions, [], ry.OT.eq, scale=[s])\n",
    "komo.addObjective([], ry.FS.jointLimits, [], ry.OT.ineq)\n",
    "\n",
    "komo.addObjective(times=[1.], feature=ry.FS.qItself, type=ry.OT.eq, order=1, scale=[s])\n",
    "\n",
    "komo.addObjective(times=[1.],\n",
    "                  feature=ry.FS.positionDiff, \n",
    "                  frames=['robo', 'target'], \n",
    "                  type=ry.OT.eq, \n",
    "                  scale=[s, s, 0])\n",
    "\n",
    "\n",
    "komo.optimize()\n",
    "komo.getReport()\n",
    "komo.view(False, \"my solution\")"
   ]
  },
  {
   "cell_type": "code",
   "execution_count": 22,
   "metadata": {},
   "outputs": [
    {
     "data": {
      "text/plain": [
       "0"
      ]
     },
     "execution_count": 22,
     "metadata": {},
     "output_type": "execute_result"
    }
   ],
   "source": [
    "komo.view_play(False, .1)"
   ]
  },
  {
   "cell_type": "code",
   "execution_count": null,
   "metadata": {},
   "outputs": [],
   "source": []
  }
 ],
 "metadata": {
  "kernelspec": {
   "display_name": "Python 3 (ipykernel)",
   "language": "python",
   "name": "python3"
  },
  "language_info": {
   "codemirror_mode": {
    "name": "ipython",
    "version": 3
   },
   "file_extension": ".py",
   "mimetype": "text/x-python",
   "name": "python",
   "nbconvert_exporter": "python",
   "pygments_lexer": "ipython3",
   "version": "3.8.10"
  },
  "vscode": {
   "interpreter": {
    "hash": "916dbcbb3f70747c44a77c7bcd40155683ae19c65e1c03b4aa3499c5328201f1"
   }
  }
 },
 "nbformat": 4,
 "nbformat_minor": 2
}

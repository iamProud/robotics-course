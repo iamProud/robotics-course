{
 "cells": [
  {
   "cell_type": "markdown",
   "metadata": {},
   "source": [
    "# Path Optimization (KOMO)\n",
    "\n"
   ]
  },
  {
   "cell_type": "markdown",
   "metadata": {},
   "source": [
    "Let's setup a standard configuration. (Lock the window with \"Always on Top\".)"
   ]
  },
  {
   "cell_type": "code",
   "execution_count": 1,
   "metadata": {},
   "outputs": [
    {
     "name": "stdout",
     "output_type": "stream",
     "text": [
      "**ry-c++-log** ry.cpp:init_LogToPythonConsole:34(0) initializing ry log callback\n",
      "\n",
      "**ry-c++-log** util.cpp:initCmdLine:545(1) ** cmd line arguments: 'rai-pybind -python '\n",
      "** INFO:ry.cpp:init_LogToPythonConsole:34(0) initializing ry log callback\n",
      "\n",
      "**ry-c++-log** util.cpp:initCmdLine:549(1) ** run path: '/home/basti/Dokumente/Bachelorarbeit/rai-python/tutorials'\n",
      "** INFO:util.cpp:initCmdLine:545(1) ** cmd line arguments: 'rai-pybind -python '\n",
      "\n",
      "**ry-c++-log** graph.cpp:initParameters:1379(1) ** parsed parameters:\n",
      "{python,\n",
      "LGP/cameraFocus:[1, 0.5, 1],\n",
      "LGP/collisions:1,\n",
      "LGP/stopTime:300,\n",
      "LGP/stopSol:6,\n",
      "opt/maxStep:0.1,\n",
      "opt/verbose:6,\n",
      "opt/boundedNewton!}\n",
      "\n",
      "** INFO:util.cpp:initCmdLine:549(1) ** run path: '/home/basti/Dokumente/Bachelorarbeit/rai-python/tutorials'\n",
      "\n",
      "** INFO:graph.cpp:initParameters:1379(1) ** parsed parameters:\n",
      "{python,\n",
      "LGP/cameraFocus:[1, 0.5, 1],\n",
      "LGP/collisions:1,\n",
      "LGP/stopTime:300,\n",
      "LGP/stopSol:6,\n",
      "opt/maxStep:0.1,\n",
      "opt/verbose:6,\n",
      "opt/boundedNewton!}\n",
      "\n"
     ]
    }
   ],
   "source": [
    "import sys\n",
    "sys.path += ['../build', '../../../build', '../../lib']\n",
    "import numpy as np\n",
    "import libry as ry\n",
    "\n",
    "C = ry.Config()\n",
    "D = C.view()\n",
    "C.addFile('../rai-robotModels/pr2/pr2.g')\n",
    "C.addFile('../rai-robotModels/objects/kitchen.g')"
   ]
  },
  {
   "cell_type": "markdown",
   "metadata": {},
   "source": [
    "Let's add some objects"
   ]
  },
  {
   "cell_type": "code",
   "execution_count": 2,
   "metadata": {},
   "outputs": [
    {
     "data": {
      "text/plain": [
       "<libry.Frame at 0x7f8371e77830>"
      ]
     },
     "execution_count": 2,
     "metadata": {},
     "output_type": "execute_result"
    }
   ],
   "source": [
    "C.addObject(name='item1', parent='sink1', shape=ry.ST.ssBox, pos=[-.1, -.1, .52], size=[.1, .1, .25, .02], color=[1., 0., 0.])\n",
    "C.addObject('item2', 'sink1', ry.ST.ssBox, [.1, .1, .25, .02], [1., 1., 0.], [.1, .1, .52])\n",
    "C.addObject('tray', 'stove1', ry.ST.ssBox, [.2, .2, .05, .02], [0., 1., 0.], [.0, .0, .42])"
   ]
  },
  {
   "cell_type": "markdown",
   "metadata": {},
   "source": [
    "compute a collision free path to touch object item1 with pr2L:"
   ]
  },
  {
   "cell_type": "code",
   "execution_count": 3,
   "metadata": {},
   "outputs": [
    {
     "name": "stdout",
     "output_type": "stream",
     "text": [
      "** KOMO::run solver:sparse collisions:1 x-dim:504 T:20 k:2 phases:1 stepsPerPhase:20 tau:0.5  #timeSlices:22 #totalDOFs:504 #frames:3982\n",
      "** optimization time:0.185974 (kin:0.015012 coll:0.076105 feat:0.055451 newton: 0.011259) setJointStateCount:76\n",
      "   sos:16.7659 ineq:6.11781 eq:0.234833\n"
     ]
    },
    {
     "data": {
      "text/plain": [
       "{'F_qItself/2-#46': {'order': 2.0, 'type': 'sos', 'sos': 14.175057128562791},\n",
       " 'F_AccumulatedCollisions/0-#181': {'order': 0.0,\n",
       "  'type': 'eq',\n",
       "  'eq': 0.00546248503171232},\n",
       " 'F_qLimits/0-#181': {'order': 0.0, 'type': 'ineq', 'ineq': 6.117809029880054},\n",
       " 'F_PairCollision/0-pr2L-item1': {'order': 0.0,\n",
       "  'type': 'eq',\n",
       "  'eq': 0.0104931816480313},\n",
       " 'F_PositionDiff/0-endeffWorkspace-item1': {'order': 0.0,\n",
       "  'type': 'sos',\n",
       "  'sos': 2.5908831094842206},\n",
       " 'F_qItself/1-#58': {'order': 1.0, 'type': 'eq', 'eq': 0.21887745956131638},\n",
       " 'sos': 16.765940238047012,\n",
       " 'ineq': 6.117809029880054,\n",
       " 'eq': 0.23483312624106,\n",
       " 'f': 0.0}"
      ]
     },
     "execution_count": 3,
     "metadata": {},
     "output_type": "execute_result"
    }
   ],
   "source": [
    "X0 = C.getFrameState()\n",
    "\n",
    "obj1 = \"item1\";\n",
    "arm = \"pr2L\";\n",
    "\n",
    "komo = C.komo_path(1.,20, 10., True);\n",
    "\n",
    "komo.addObjective([], ry.FS.accumulatedCollisions, [], ry.OT.eq);\n",
    "komo.addObjective([], ry.FS.jointLimits, [], ry.OT.ineq);\n",
    "komo.addObjective([1.], ry.FS.distance, [arm, obj1], ry.OT.eq, [1e2]);\n",
    "komo.addObjective([.9,1.], ry.FS.positionDiff, [\"endeffWorkspace\", obj1], ry.OT.sos, [1e0]);\n",
    "komo.addObjective(times=[1.], feature=ry.FS.qItself, type=ry.OT.eq, order=1);\n",
    "\n",
    "komo.optimize()\n",
    "komo.getReport()"
   ]
  },
  {
   "cell_type": "code",
   "execution_count": 6,
   "metadata": {},
   "outputs": [
    {
     "data": {
      "text/plain": [
       "0"
      ]
     },
     "execution_count": 6,
     "metadata": {},
     "output_type": "execute_result"
    }
   ],
   "source": [
    "komo.view(False, \"my solution\")"
   ]
  },
  {
   "cell_type": "code",
   "execution_count": 9,
   "metadata": {},
   "outputs": [
    {
     "data": {
      "text/plain": [
       "0"
      ]
     },
     "execution_count": 9,
     "metadata": {},
     "output_type": "execute_result"
    }
   ],
   "source": [
    "komo.view_play(False, .1)"
   ]
  },
  {
   "cell_type": "markdown",
   "metadata": {},
   "source": [
    "Best way to read out: grab a configuration into K and analyze it here:"
   ]
  },
  {
   "cell_type": "code",
   "execution_count": 8,
   "metadata": {},
   "outputs": [
    {
     "data": {
      "text/plain": [
       "array([-1.65041089e-01,  1.17961582e+00,  1.07655667e+00,  1.00018506e-01,\n",
       "       -6.53769462e-03, -3.97708685e-03,  6.38756319e-01,  1.20875787e+00,\n",
       "        4.10034810e-01,  1.23179531e-01,  4.33873545e-01, -1.33912969e+00,\n",
       "        9.32187255e-01, -8.12933638e-01, -2.05854677e+00, -3.71741832e-04,\n",
       "        6.96270668e-05, -9.40137260e-02, -5.04446960e-01, -9.84603917e-05,\n",
       "        1.91666731e-05,  9.95645402e-02,  9.76504053e-02,  7.65864660e-03,\n",
       "        5.93171958e-03])"
      ]
     },
     "execution_count": 8,
     "metadata": {},
     "output_type": "execute_result"
    }
   ],
   "source": [
    "C.setFrameState( komo.getFrameState(19) )\n",
    "C.getJointState()"
   ]
  },
  {
   "cell_type": "code",
   "execution_count": null,
   "metadata": {},
   "outputs": [],
   "source": []
  },
  {
   "cell_type": "code",
   "execution_count": null,
   "metadata": {},
   "outputs": [],
   "source": []
  }
 ],
 "metadata": {
  "kernelspec": {
   "display_name": "Python 3 (ipykernel)",
   "language": "python",
   "name": "python3"
  },
  "language_info": {
   "codemirror_mode": {
    "name": "ipython",
    "version": 3
   },
   "file_extension": ".py",
   "mimetype": "text/x-python",
   "name": "python",
   "nbconvert_exporter": "python",
   "pygments_lexer": "ipython3",
   "version": "3.8.10"
  }
 },
 "nbformat": 4,
 "nbformat_minor": 2
}

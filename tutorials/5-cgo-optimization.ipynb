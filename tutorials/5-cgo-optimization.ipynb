{
 "cells": [
  {
   "cell_type": "markdown",
   "metadata": {},
   "source": [
    "# Constrained Graph Optimization (KOMO)\n",
    "\n",
    "This is a dense optimization problem (in constrast to a path (k-order Markov) optimization). You can define arbitrary objectives across configurations."
   ]
  },
  {
   "cell_type": "code",
   "execution_count": 4,
   "metadata": {},
   "outputs": [],
   "source": [
    "import sys\n",
    "sys.path.append('../build')\n",
    "import numpy as np\n",
    "import libry as ry\n",
    "\n",
    "C = ry.Config()\n",
    "D = C.view()\n",
    "C.addFile('../pr2/pr2.g')\n",
    "C.addFile('../objects/kitchen.g')"
   ]
  },
  {
   "cell_type": "markdown",
   "metadata": {},
   "source": [
    "Let's add some objects"
   ]
  },
  {
   "cell_type": "code",
   "execution_count": 5,
   "metadata": {},
   "outputs": [
    {
     "data": {
      "text/plain": [
       "<libry.Frame at 0x7f07645daaf0>"
      ]
     },
     "execution_count": 5,
     "metadata": {},
     "output_type": "execute_result"
    }
   ],
   "source": [
    "C.addObject(name='item1', parent='sink1', shape=ry.ST.ssBox, pos=[-.1, -.1, .52], size=[.1, .1, .25, .02], color=[1., 0., 0.])\n",
    "C.addObject('item2', 'sink1', ry.ST.ssBox, [.1, .1, .25, .02], [1., 1., 0.], [.1, .1, .52])\n",
    "C.addObject('tray', 'stove1', ry.ST.ssBox, [.2, .2, .05, .02], [0., 1., 0.], [.0, .0, .42])"
   ]
  },
  {
   "cell_type": "code",
   "execution_count": 8,
   "metadata": {},
   "outputs": [
    {
     "ename": "AttributeError",
     "evalue": "'libry.KOMO' object has no attribute 'add_StableRelativePose'",
     "output_type": "error",
     "traceback": [
      "\u001b[0;31m---------------------------------------------------------------------------\u001b[0m",
      "\u001b[0;31mAttributeError\u001b[0m                            Traceback (most recent call last)",
      "Cell \u001b[0;32mIn [8], line 13\u001b[0m\n\u001b[1;32m      7\u001b[0m komo \u001b[38;5;241m=\u001b[39m C\u001b[38;5;241m.\u001b[39mkomo_CGO(\u001b[38;5;241m6\u001b[39m, \u001b[38;5;28;01mTrue\u001b[39;00m)\n\u001b[1;32m      9\u001b[0m \u001b[38;5;66;03m# komo.activateCollisionPairs([(obj1, obj2)]);\u001b[39;00m\n\u001b[1;32m     10\u001b[0m \u001b[38;5;66;03m# komo.addObjective([], ry.OT.eq, ry.FS.accumulatedCollisions);\u001b[39;00m\n\u001b[1;32m     11\u001b[0m \u001b[38;5;66;03m# komo.addObjective([], ry.OT.ineq, ry.FS.jointLimits);\u001b[39;00m\n\u001b[0;32m---> 13\u001b[0m \u001b[43mkomo\u001b[49m\u001b[38;5;241;43m.\u001b[39;49m\u001b[43madd_StableRelativePose\u001b[49m([\u001b[38;5;241m0\u001b[39m, \u001b[38;5;241m1\u001b[39m], arm, obj1);\n\u001b[1;32m     14\u001b[0m komo\u001b[38;5;241m.\u001b[39madd_StableRelativePose([\u001b[38;5;241m2\u001b[39m, \u001b[38;5;241m3\u001b[39m], arm, obj2);\n\u001b[1;32m     15\u001b[0m komo\u001b[38;5;241m.\u001b[39madd_StableRelativePose([\u001b[38;5;241m4\u001b[39m, \u001b[38;5;241m5\u001b[39m], arm, tray);\n",
      "\u001b[0;31mAttributeError\u001b[0m: 'libry.KOMO' object has no attribute 'add_StableRelativePose'"
     ]
    }
   ],
   "source": [
    "obj1 = \"item2\";\n",
    "obj2 = \"item1\";\n",
    "tray = \"tray\";\n",
    "arm = \"pr2L\";\n",
    "table = \"_12\";\n",
    "\n",
    "komo = C.komo_CGO(6, True)\n",
    "\n",
    "komo.activateCollisionPairs([(obj1, obj2)]);\n",
    "komo.addObjective([], ry.OT.eq, ry.FS.accumulatedCollisions);\n",
    "komo.addObjective([], ry.OT.ineq, ry.FS.jointLimits);\n",
    "\n",
    "komo.add_StableRelativePose([0, 1], arm, obj1);\n",
    "komo.add_StableRelativePose([2, 3], arm, obj2);\n",
    "komo.add_StableRelativePose([4, 5], arm, tray);\n",
    "\n",
    "komo.add_StableRelativePose([1,2,3,4,5], tray, obj1);\n",
    "komo.add_StableRelativePose([3,4,5], tray, obj2);\n",
    "\n",
    "komo.add_StablePose([-1,0], obj1);\n",
    "komo.add_StablePose([-1,0,1,2], obj2);\n",
    "komo.add_StablePose([-1,0,1,2,3,4], tray);\n",
    "\n",
    "komo.add_grasp(0, arm, obj1);\n",
    "komo.add_place(1, obj1, tray);\n",
    "\n",
    "komo.add_grasp(2, arm, obj2);\n",
    "komo.add_place(3, obj2, tray);\n",
    "\n",
    "komo.add_grasp(4, arm, tray);\n",
    "komo.add_place(5, tray, table);"
   ]
  },
  {
   "cell_type": "code",
   "execution_count": null,
   "metadata": {},
   "outputs": [],
   "source": [
    "komo.optimize(True)"
   ]
  },
  {
   "cell_type": "code",
   "execution_count": null,
   "metadata": {},
   "outputs": [],
   "source": [
    "V = komo.view()"
   ]
  },
  {
   "cell_type": "code",
   "execution_count": null,
   "metadata": {},
   "outputs": [],
   "source": [
    "V = 0"
   ]
  },
  {
   "cell_type": "markdown",
   "metadata": {},
   "source": [
    "Best way to read out: grab a configuration into K and analyze it there:"
   ]
  },
  {
   "cell_type": "code",
   "execution_count": null,
   "metadata": {},
   "outputs": [],
   "source": [
    "C.setFrameState( komo.getConfiguration(4) )\n",
    "C.getJointState()"
   ]
  }
 ],
 "metadata": {
  "kernelspec": {
   "display_name": "Python 3 (ipykernel)",
   "language": "python",
   "name": "python3"
  },
  "language_info": {
   "codemirror_mode": {
    "name": "ipython",
    "version": 3
   },
   "file_extension": ".py",
   "mimetype": "text/x-python",
   "name": "python",
   "nbconvert_exporter": "python",
   "pygments_lexer": "ipython3",
   "version": "3.8.10"
  }
 },
 "nbformat": 4,
 "nbformat_minor": 2
}

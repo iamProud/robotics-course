{
 "cells": [
  {
   "cell_type": "markdown",
   "metadata": {},
   "source": [
    "# Custom Grid-World"
   ]
  },
  {
   "cell_type": "code",
   "execution_count": 1,
   "metadata": {},
   "outputs": [
    {
     "name": "stdout",
     "output_type": "stream",
     "text": [
      "3.8.10 (default, Nov 14 2022, 12:59:47) \n",
      "[GCC 9.4.0]\n",
      "[rai] util.cpp:initCmdLine:559(1) ** cmd line arguments: 'rai-pybind -python '\n",
      "[rai] util.cpp:initCmdLine:562(1) ** run path: '/home/basti/Dokumente/Bachelorarbeit/rai-python/tutorials'\n",
      "[rai] util.cpp:initCmdLine:563(1) ** rai path: '/root/local/rai'\n",
      "[rai] graph.cpp:initParameters:1364(1) ** parsed parameters:\n",
      "{python,\n",
      "LGP/cameraFocus:[1, 0.5, 1],\n",
      "LGP/collisions:1,\n",
      "LGP/stopTime:300,\n",
      "LGP/stopSol:6,\n",
      "opt/maxStep:0.1,\n",
      "opt/verbose:6,\n",
      "opt/boundedNewton!}\n",
      "\n"
     ]
    }
   ],
   "source": [
    "import sys\n",
    "sys.path += ['../build', '../../../build', '../../lib']\n",
    "print(sys.version)\n",
    "import numpy as np\n",
    "from robotic import ry\n",
    "import time"
   ]
  },
  {
   "cell_type": "markdown",
   "metadata": {},
   "source": [
    "## Setting up a basic Config"
   ]
  },
  {
   "cell_type": "code",
   "execution_count": 2,
   "metadata": {},
   "outputs": [],
   "source": [
    "C = ry.Config()"
   ]
  },
  {
   "cell_type": "markdown",
   "metadata": {},
   "source": [
    "Add base-grid with walls"
   ]
  },
  {
   "cell_type": "code",
   "execution_count": 3,
   "metadata": {},
   "outputs": [
    {
     "data": {
      "text/plain": [
       "0"
      ]
     },
     "execution_count": 3,
     "metadata": {},
     "output_type": "execute_result"
    }
   ],
   "source": [
    "C.clear()\n",
    "C.addFile('../rai-robotModels/test/base-grid.g')\n",
    "C.addFile('../rai-robotModels/myRobo/myRobo.g')\n",
    "C.view()"
   ]
  },
  {
   "cell_type": "markdown",
   "metadata": {},
   "source": [
    "## Generating World\n",
    "\n",
    "Set some variables."
   ]
  },
  {
   "cell_type": "code",
   "execution_count": 4,
   "metadata": {},
   "outputs": [],
   "source": [
    "colors = [[.8, .1, .1], [1., .3, .2]]"
   ]
  },
  {
   "cell_type": "code",
   "execution_count": 5,
   "metadata": {},
   "outputs": [],
   "source": [
    "# world_list = []\n",
    "\n",
    "# SAFE_FILE = 'demo.txt'\n",
    "# SAFE_DIR = '/home/basti/Dokumente/Bachelorarbeit/Observations/{}'.format(SAFE_FILE)\n",
    "\n",
    "# f = open(SAFE_DIR, 'r')\n",
    "\n",
    "# for line in f:\n",
    "#     row = []\n",
    "    \n",
    "#     for char in line:\n",
    "#         if char == '\\n':\n",
    "#             break\n",
    "            \n",
    "#         row.append([int(char)])\n",
    "        \n",
    "#     world_list.append(row)\n",
    "    \n",
    "\n",
    "# world = np.asarray(world_list)\n",
    "# off = -np.floor(world.shape[0] / 2)"
   ]
  },
  {
   "cell_type": "code",
   "execution_count": 6,
   "metadata": {},
   "outputs": [],
   "source": [
    "# world = np.array([\n",
    "#     [1, 1, 1, 1, 1, 1, 1],\n",
    "#     [1, 4, 0, 0, 0, 0, 1],\n",
    "#     [1, 0, 3, 1, 3, 0, 1],\n",
    "#     [1, 1, 0, 1, 0, 1, 1],\n",
    "#     [1, 0, 2, 0, 3, 0, 1],\n",
    "#     [1, 4, 0, 0, 0, 4, 1],\n",
    "#     [1, 1, 1, 1, 1, 1, 1]\n",
    "# ])\n",
    "\n",
    "world = np.array([\n",
    "    [1, 1, 1, 1, 1, 1, 1],\n",
    "    [1, 4, 0, 0, 0, 0, 1],\n",
    "    [1, 0, 0, 0, 3, 0, 1],\n",
    "    [1, 1, 0, 1, 1, 1, 1],\n",
    "    [1, 0, 2, 1, 0, 0, 1],\n",
    "    [1, 4, 0, 0, 0, 4, 1],\n",
    "    [1, 1, 1, 1, 1, 1, 1]\n",
    "])\n",
    "\n",
    "off = -3"
   ]
  },
  {
   "cell_type": "markdown",
   "metadata": {},
   "source": [
    "Iterate over world Array and generate Environment."
   ]
  },
  {
   "cell_type": "code",
   "execution_count": 7,
   "metadata": {},
   "outputs": [],
   "source": [
    "roboFrame = 'robo'\n",
    "\n",
    "for x in range(world.shape[0]):\n",
    "    for y in range(world.shape[1]):\n",
    "        if(world[x][y] == 1):\n",
    "            c = colors[(x+y) % 2]\n",
    "            block = C.addObject(name=f'block{x}-{y}', parent='world', shape=ry.ST.ssBox, pos=[x+off, y+off, .5], size=[1, 1, 1, .02], color=c)\n",
    "#             block = C.addFrame(name=f'block{x}-{y}', parent='world', args='type:ssBox size:[1, 1, 1, .02] color=[1, 0, 0]')\n",
    "            block.setPosition([x+off, y+off, 0.5])\n",
    "            block.setMass(100.0)\n",
    "            block.setContact(1)\n",
    "        \n",
    "        if(world[x][y] == 2):\n",
    "            C.getFrame(roboFrame).setPosition([x+off, y+off, 0])\n",
    "        \n",
    "        if(world[x][y] == 3):\n",
    "            box = C.addObject(name=f'box{x}-{y}', parent='world', shape=ry.ST.ssBox, pos=[x+off, y+off, .45], size=[.9, .9, .9, .02], color=[.6, .3, 0.])\n",
    "        \n",
    "        if(world[x][y] == 4):\n",
    "            C.addObject(name=f'goal{x}-{y}', parent='world', shape=ry.ST.ssBox, pos=[x+off, y+off, .001], size=[.95, .95, .002, .002], color=[0., 1., 0.])\n"
   ]
  },
  {
   "cell_type": "code",
   "execution_count": 8,
   "metadata": {},
   "outputs": [
    {
     "name": "stdout",
     "output_type": "stream",
     "text": [
      "joint names:  ['base_grid', 'world', 'robo', 'base', 'wheel1', 'wheel2', 'wheel3', 'wheel4', 'body', 'bodyRotation_pre', 'bodyRotation', 'head', 'armL', 'armR', 'worldTranslationRotation', 'block0-0', 'block0-1', 'block0-2', 'block0-3', 'block0-4', 'block0-5', 'block0-6', 'block1-0', 'goal1-1', 'block1-6', 'block2-0', 'box2-4', 'block2-6', 'block3-0', 'block3-1', 'block3-3', 'block3-4', 'block3-5', 'block3-6', 'block4-0', 'block4-3', 'block4-6', 'block5-0', 'goal5-1', 'goal5-5', 'block5-6', 'block6-0', 'block6-1', 'block6-2', 'block6-3', 'block6-4', 'block6-5', 'block6-6']\n"
     ]
    },
    {
     "data": {
      "text/plain": [
       "0"
      ]
     },
     "execution_count": 8,
     "metadata": {},
     "output_type": "execute_result"
    }
   ],
   "source": [
    "print('joint names: ', C.getFrameNames() )\n",
    "C.view()"
   ]
  },
  {
   "cell_type": "markdown",
   "metadata": {},
   "source": [
    "## Create skeleton"
   ]
  },
  {
   "cell_type": "code",
   "execution_count": 9,
   "metadata": {},
   "outputs": [],
   "source": [
    "S = ry.Skeleton()\n",
    "# touch box3-3\n",
    "S.addEntry([1.], ry.SY.touch, ['armL', 'box2-4'])\n",
    "S.addEntry([2.], ry.SY.above, ['base', 'goal5-5'])\n",
    "\n",
    "# # move box4-4 to goal 5-5\n",
    "# S.addEntry([1.], ry.SY.touch, ['armL', 'box4-4'])\n",
    "# S.addEntry([1., 2.], ry.SY.stable, ['armL', 'box4-4'])\n",
    "# S.addEntry([2.], ry.SY.above, ['box4-4', 'goal5-5'])\n",
    "# S.addEntry([2.,7.], ry.SY.stableOn, ['goal5-5', 'box4-4'])\n",
    "\n",
    "# # move box2-4 to goal1-1\n",
    "# S.addEntry([3.], ry.SY.touch, ['armL', 'box2-4'])\n",
    "# S.addEntry([3., 4.], ry.SY.stable, ['armL', 'box2-4'])\n",
    "# S.addEntry([4.], ry.SY.above, ['box2-4', 'goal1-1'])\n",
    "# S.addEntry([4.,7.], ry.SY.stableOn, ['goal1-1', 'box2-4'])\n",
    "\n",
    "# # move box2-2 to goal5-1\n",
    "# S.addEntry([5.], ry.SY.touch, ['armL', 'box2-2'])\n",
    "# S.addEntry([5., 6.], ry.SY.stable, ['armL', 'box2-2'])\n",
    "# S.addEntry([6.], ry.SY.above, ['box2-2', 'goal5-1'])\n",
    "# S.addEntry([6.,7.], ry.SY.stableOn, ['goal5-1', 'box2-2'])\n"
   ]
  },
  {
   "cell_type": "markdown",
   "metadata": {},
   "source": [
    "## solve for waypoints: create a komo instance, create nlp instance, then call generic solver"
   ]
  },
  {
   "cell_type": "code",
   "execution_count": null,
   "metadata": {},
   "outputs": [],
   "source": [
    "komo = S.getKomo_waypoints(C, 1e-1, 1e-2)\n",
    "nlp = komo.nlp()\n",
    "sol = ry.NLP_Solver()\n",
    "sol.setProblem(nlp)\n",
    "sol.setOptions( stopTolerance=1e-2 )\n",
    "ret = sol.solve()\n",
    "waypoints = komo.getPath_qAll()\n",
    "# report on result, view, and play\n",
    "print(ret)\n",
    "#print(nlpW.report(2))\n",
    "komo.view(True, 'waypoints solution')\n",
    "komo.view_play(True, .2)\n",
    "# store result"
   ]
  },
  {
   "cell_type": "markdown",
   "metadata": {},
   "source": [
    "## solve for paths using RRT: for each phase create start-end problems, run RRT"
   ]
  },
  {
   "cell_type": "code",
   "execution_count": null,
   "metadata": {},
   "outputs": [],
   "source": [
    "m = len(waypoints)\n",
    "rrt_dofs = []\n",
    "rrt_paths = []\n",
    "for t in range(0,int(m)):\n",
    "    # grab config and waypoints\n",
    "    [Ctmp, q0, q1] = S.getTwoWaypointProblem(t, komo)\n",
    "    Ctmp.setJointState(q0);\n",
    "    Ctmp.view(True, 'waypoint configuration phase ' + str(t) + ' START')\n",
    "    Ctmp.setJointState(q1);\n",
    "    Ctmp.view(True, 'waypoint configuration phase ' + str(t) + ' STOP')\n",
    "\n",
    "    # call path finder\n",
    "    sol = ry.PathFinder()\n",
    "    sol.setProblem(Ctmp, q0, q1)\n",
    "    ret = sol.solve()\n",
    "    rrt_paths.append(ret.x)\n",
    "    rrt_dofs.append(Ctmp.getDofIDs())\n",
    "\n",
    "    #display the rrt path\n",
    "    for i in range(0,ret.x.shape[0]):\n",
    "        Ctmp.setJointState(ret.x[i])\n",
    "        Ctmp.view(False, 'rrt path ' + str(i))\n",
    "        time.sleep(.2)"
   ]
  },
  {
   "cell_type": "markdown",
   "metadata": {},
   "source": [
    "## solve for full path: create a komo instance, initialize with waypoints & rrt paths, solve"
   ]
  },
  {
   "cell_type": "code",
   "execution_count": null,
   "metadata": {},
   "outputs": [],
   "source": [
    "komo = S.getKomo_path(C, 20, .2, -1, 1e-2)\n",
    "komo.initWithWaypoints(waypoints)\n",
    "komo.view(True, 'init with waypoints only')\n",
    "for t in range(0,int(m)):\n",
    "    komo.initPhaseWithDofsPath(t, rrt_dofs[t], rrt_paths[t], True)\n",
    "    komo.view(True, 'init with RRT phase ' + str(t))\n",
    "nlp = komo.nlp()\n",
    "sol = ry.NLP_Solver()\n",
    "sol.setProblem(nlp)\n",
    "sol.setOptions( stopTolerance=1e-2 )\n",
    "ret = sol.solve()\n",
    "# report on result, view, and play\n",
    "print(ret)\n",
    "#print(nlp.report(2))\n",
    "komo.view(True, 'path solution')\n",
    "komo.view_play(True, .2)"
   ]
  },
  {
   "cell_type": "code",
   "execution_count": null,
   "metadata": {},
   "outputs": [],
   "source": [
    "C.view()"
   ]
  },
  {
   "cell_type": "code",
   "execution_count": null,
   "metadata": {},
   "outputs": [],
   "source": []
  }
 ],
 "metadata": {
  "kernelspec": {
   "display_name": "Python 3 (ipykernel)",
   "language": "python",
   "name": "python3"
  },
  "language_info": {
   "codemirror_mode": {
    "name": "ipython",
    "version": 3
   },
   "file_extension": ".py",
   "mimetype": "text/x-python",
   "name": "python",
   "nbconvert_exporter": "python",
   "pygments_lexer": "ipython3",
   "version": "3.8.10"
  },
  "vscode": {
   "interpreter": {
    "hash": "916dbcbb3f70747c44a77c7bcd40155683ae19c65e1c03b4aa3499c5328201f1"
   }
  }
 },
 "nbformat": 4,
 "nbformat_minor": 2
}
